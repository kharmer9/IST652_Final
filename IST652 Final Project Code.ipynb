{
 "cells": [
  {
   "cell_type": "markdown",
   "id": "1ec3209f",
   "metadata": {},
   "source": [
    "# 1. Objectives"
   ]
  },
  {
   "cell_type": "markdown",
   "id": "c22ae89b",
   "metadata": {},
   "source": [
    "1. Predict Seeding based on Season Statistics. Analyze leading predictors of seeding outcome.\n",
    "2. Predict Tournament Results Based on Seeding and Season Statistics. Do not worry about matchups.\n",
    "3. Test Models on 2021 data."
   ]
  },
  {
   "cell_type": "markdown",
   "id": "36763f03",
   "metadata": {},
   "source": [
    "# 2. Importing and Cleaning the Data"
   ]
  },
  {
   "cell_type": "markdown",
   "id": "ce9ef5dd",
   "metadata": {},
   "source": [
    "For my project, I want to predict college basketball tournament seeding and national champions based on the season's stastics. From kaggle.com, there are available data sets from the 2013-2021 basketball seasons (excluding 2020 due to cancelled tournament). The columns of the data set with associated descriptions are as follows:\n",
    "- TEAM: name of team being analyzed\n",
    "- CONF: name of conference the team plays for\n",
    "- G: Games played\n",
    "- W: Games won\n",
    "- ADJOE: Adjusted Offensive Efficiency (Estimate of Average Points Scored per 100 Posessions)\n",
    "- ADJDE: Adjusted Defensive Efficiency (Estimate of Average Points Allowed per 100 Posessions)\n",
    "- BARTHAG: Power Rating (Chance of Beating an average D1 team)\n",
    "- EFG_O: Field Goal Percentage\n",
    "- EFG_D: Field Goal Percentage Allowed\n",
    "- TOR: Turnover Percentage\n",
    "- TORD: Steal Rate\n",
    "- ORB: Offensive Rebound Rate\n",
    "- DRB: Defensive Rebound Rate\n",
    "- FTR: Free Throw Rate\n",
    "- FTRD: Free Throw Rate Allowed\n",
    "- 2P_O: Two-Point Shooting Percentage\n",
    "- 2P_D: Two-Point Shooting Percentage Allowed\n",
    "- 3P_O: Three-Point Shooting Percentage\n",
    "- 3P_D: Three-Point Shooting Percentage Allowed\n",
    "- ADJ_T: Adjusted Tempo (Posessions per 40 minutes)\n",
    "- WAB: Wins Above Bubble (Wins against top teams)\n",
    "- POSTSEASON: Result of Tournament\n",
    "- SEED: Seed in the NCAA March Madness Tournament\n",
    "- YEAR: Which year the data was drawn from"
   ]
  },
  {
   "cell_type": "code",
   "execution_count": 4,
   "id": "37816b35",
   "metadata": {},
   "outputs": [
    {
     "data": {
      "text/html": [
       "<div>\n",
       "<style scoped>\n",
       "    .dataframe tbody tr th:only-of-type {\n",
       "        vertical-align: middle;\n",
       "    }\n",
       "\n",
       "    .dataframe tbody tr th {\n",
       "        vertical-align: top;\n",
       "    }\n",
       "\n",
       "    .dataframe thead th {\n",
       "        text-align: right;\n",
       "    }\n",
       "</style>\n",
       "<table border=\"1\" class=\"dataframe\">\n",
       "  <thead>\n",
       "    <tr style=\"text-align: right;\">\n",
       "      <th></th>\n",
       "      <th>TEAM</th>\n",
       "      <th>CONF</th>\n",
       "      <th>G</th>\n",
       "      <th>W</th>\n",
       "      <th>ADJOE</th>\n",
       "      <th>ADJDE</th>\n",
       "      <th>BARTHAG</th>\n",
       "      <th>EFG_O</th>\n",
       "      <th>EFG_D</th>\n",
       "      <th>TOR</th>\n",
       "      <th>...</th>\n",
       "      <th>FTRD</th>\n",
       "      <th>2P_O</th>\n",
       "      <th>2P_D</th>\n",
       "      <th>3P_O</th>\n",
       "      <th>3P_D</th>\n",
       "      <th>ADJ_T</th>\n",
       "      <th>WAB</th>\n",
       "      <th>POSTSEASON</th>\n",
       "      <th>SEED</th>\n",
       "      <th>YEAR</th>\n",
       "    </tr>\n",
       "  </thead>\n",
       "  <tbody>\n",
       "    <tr>\n",
       "      <th>0</th>\n",
       "      <td>North Carolina</td>\n",
       "      <td>ACC</td>\n",
       "      <td>40</td>\n",
       "      <td>33</td>\n",
       "      <td>123.3</td>\n",
       "      <td>94.9</td>\n",
       "      <td>0.9531</td>\n",
       "      <td>52.6</td>\n",
       "      <td>48.1</td>\n",
       "      <td>15.4</td>\n",
       "      <td>...</td>\n",
       "      <td>30.4</td>\n",
       "      <td>53.9</td>\n",
       "      <td>44.6</td>\n",
       "      <td>32.7</td>\n",
       "      <td>36.2</td>\n",
       "      <td>71.7</td>\n",
       "      <td>8.6</td>\n",
       "      <td>2ND</td>\n",
       "      <td>1.0</td>\n",
       "      <td>2016</td>\n",
       "    </tr>\n",
       "    <tr>\n",
       "      <th>1</th>\n",
       "      <td>Wisconsin</td>\n",
       "      <td>B10</td>\n",
       "      <td>40</td>\n",
       "      <td>36</td>\n",
       "      <td>129.1</td>\n",
       "      <td>93.6</td>\n",
       "      <td>0.9758</td>\n",
       "      <td>54.8</td>\n",
       "      <td>47.7</td>\n",
       "      <td>12.4</td>\n",
       "      <td>...</td>\n",
       "      <td>22.4</td>\n",
       "      <td>54.8</td>\n",
       "      <td>44.7</td>\n",
       "      <td>36.5</td>\n",
       "      <td>37.5</td>\n",
       "      <td>59.3</td>\n",
       "      <td>11.3</td>\n",
       "      <td>2ND</td>\n",
       "      <td>1.0</td>\n",
       "      <td>2015</td>\n",
       "    </tr>\n",
       "    <tr>\n",
       "      <th>2</th>\n",
       "      <td>Michigan</td>\n",
       "      <td>B10</td>\n",
       "      <td>40</td>\n",
       "      <td>33</td>\n",
       "      <td>114.4</td>\n",
       "      <td>90.4</td>\n",
       "      <td>0.9375</td>\n",
       "      <td>53.9</td>\n",
       "      <td>47.7</td>\n",
       "      <td>14.0</td>\n",
       "      <td>...</td>\n",
       "      <td>30.0</td>\n",
       "      <td>54.7</td>\n",
       "      <td>46.8</td>\n",
       "      <td>35.2</td>\n",
       "      <td>33.2</td>\n",
       "      <td>65.9</td>\n",
       "      <td>6.9</td>\n",
       "      <td>2ND</td>\n",
       "      <td>3.0</td>\n",
       "      <td>2018</td>\n",
       "    </tr>\n",
       "    <tr>\n",
       "      <th>3</th>\n",
       "      <td>Texas Tech</td>\n",
       "      <td>B12</td>\n",
       "      <td>38</td>\n",
       "      <td>31</td>\n",
       "      <td>115.2</td>\n",
       "      <td>85.2</td>\n",
       "      <td>0.9696</td>\n",
       "      <td>53.5</td>\n",
       "      <td>43.0</td>\n",
       "      <td>17.7</td>\n",
       "      <td>...</td>\n",
       "      <td>36.6</td>\n",
       "      <td>52.8</td>\n",
       "      <td>41.9</td>\n",
       "      <td>36.5</td>\n",
       "      <td>29.7</td>\n",
       "      <td>67.5</td>\n",
       "      <td>7.0</td>\n",
       "      <td>2ND</td>\n",
       "      <td>3.0</td>\n",
       "      <td>2019</td>\n",
       "    </tr>\n",
       "    <tr>\n",
       "      <th>4</th>\n",
       "      <td>Gonzaga</td>\n",
       "      <td>WCC</td>\n",
       "      <td>39</td>\n",
       "      <td>37</td>\n",
       "      <td>117.8</td>\n",
       "      <td>86.3</td>\n",
       "      <td>0.9728</td>\n",
       "      <td>56.6</td>\n",
       "      <td>41.1</td>\n",
       "      <td>16.2</td>\n",
       "      <td>...</td>\n",
       "      <td>26.9</td>\n",
       "      <td>56.3</td>\n",
       "      <td>40.0</td>\n",
       "      <td>38.2</td>\n",
       "      <td>29.0</td>\n",
       "      <td>71.5</td>\n",
       "      <td>7.7</td>\n",
       "      <td>2ND</td>\n",
       "      <td>1.0</td>\n",
       "      <td>2017</td>\n",
       "    </tr>\n",
       "    <tr>\n",
       "      <th>5</th>\n",
       "      <td>Kentucky</td>\n",
       "      <td>SEC</td>\n",
       "      <td>40</td>\n",
       "      <td>29</td>\n",
       "      <td>117.2</td>\n",
       "      <td>96.2</td>\n",
       "      <td>0.9062</td>\n",
       "      <td>49.9</td>\n",
       "      <td>46.0</td>\n",
       "      <td>18.1</td>\n",
       "      <td>...</td>\n",
       "      <td>36.8</td>\n",
       "      <td>50.0</td>\n",
       "      <td>44.9</td>\n",
       "      <td>33.2</td>\n",
       "      <td>32.2</td>\n",
       "      <td>65.9</td>\n",
       "      <td>3.9</td>\n",
       "      <td>2ND</td>\n",
       "      <td>8.0</td>\n",
       "      <td>2014</td>\n",
       "    </tr>\n",
       "    <tr>\n",
       "      <th>6</th>\n",
       "      <td>Michigan</td>\n",
       "      <td>B10</td>\n",
       "      <td>38</td>\n",
       "      <td>30</td>\n",
       "      <td>121.5</td>\n",
       "      <td>93.7</td>\n",
       "      <td>0.9522</td>\n",
       "      <td>54.6</td>\n",
       "      <td>48.0</td>\n",
       "      <td>14.6</td>\n",
       "      <td>...</td>\n",
       "      <td>22.7</td>\n",
       "      <td>53.4</td>\n",
       "      <td>47.6</td>\n",
       "      <td>37.9</td>\n",
       "      <td>32.6</td>\n",
       "      <td>64.8</td>\n",
       "      <td>6.2</td>\n",
       "      <td>2ND</td>\n",
       "      <td>4.0</td>\n",
       "      <td>2013</td>\n",
       "    </tr>\n",
       "    <tr>\n",
       "      <th>7</th>\n",
       "      <td>Duke</td>\n",
       "      <td>ACC</td>\n",
       "      <td>39</td>\n",
       "      <td>35</td>\n",
       "      <td>125.2</td>\n",
       "      <td>90.6</td>\n",
       "      <td>0.9764</td>\n",
       "      <td>56.6</td>\n",
       "      <td>46.5</td>\n",
       "      <td>16.3</td>\n",
       "      <td>...</td>\n",
       "      <td>23.9</td>\n",
       "      <td>55.9</td>\n",
       "      <td>46.3</td>\n",
       "      <td>38.7</td>\n",
       "      <td>31.4</td>\n",
       "      <td>66.4</td>\n",
       "      <td>10.7</td>\n",
       "      <td>Champions</td>\n",
       "      <td>1.0</td>\n",
       "      <td>2015</td>\n",
       "    </tr>\n",
       "    <tr>\n",
       "      <th>8</th>\n",
       "      <td>Virginia</td>\n",
       "      <td>ACC</td>\n",
       "      <td>38</td>\n",
       "      <td>35</td>\n",
       "      <td>123.0</td>\n",
       "      <td>89.9</td>\n",
       "      <td>0.9736</td>\n",
       "      <td>55.2</td>\n",
       "      <td>44.7</td>\n",
       "      <td>14.7</td>\n",
       "      <td>...</td>\n",
       "      <td>26.3</td>\n",
       "      <td>52.5</td>\n",
       "      <td>45.7</td>\n",
       "      <td>39.5</td>\n",
       "      <td>28.9</td>\n",
       "      <td>60.7</td>\n",
       "      <td>11.1</td>\n",
       "      <td>Champions</td>\n",
       "      <td>1.0</td>\n",
       "      <td>2019</td>\n",
       "    </tr>\n",
       "    <tr>\n",
       "      <th>9</th>\n",
       "      <td>North Carolina</td>\n",
       "      <td>ACC</td>\n",
       "      <td>39</td>\n",
       "      <td>33</td>\n",
       "      <td>121.0</td>\n",
       "      <td>91.5</td>\n",
       "      <td>0.9615</td>\n",
       "      <td>51.7</td>\n",
       "      <td>48.1</td>\n",
       "      <td>16.2</td>\n",
       "      <td>...</td>\n",
       "      <td>31.6</td>\n",
       "      <td>51.0</td>\n",
       "      <td>46.3</td>\n",
       "      <td>35.5</td>\n",
       "      <td>33.9</td>\n",
       "      <td>72.8</td>\n",
       "      <td>8.4</td>\n",
       "      <td>Champions</td>\n",
       "      <td>1.0</td>\n",
       "      <td>2017</td>\n",
       "    </tr>\n",
       "  </tbody>\n",
       "</table>\n",
       "<p>10 rows × 24 columns</p>\n",
       "</div>"
      ],
      "text/plain": [
       "             TEAM CONF   G   W  ADJOE  ADJDE  BARTHAG  EFG_O  EFG_D   TOR  \\\n",
       "0  North Carolina  ACC  40  33  123.3   94.9   0.9531   52.6   48.1  15.4   \n",
       "1       Wisconsin  B10  40  36  129.1   93.6   0.9758   54.8   47.7  12.4   \n",
       "2        Michigan  B10  40  33  114.4   90.4   0.9375   53.9   47.7  14.0   \n",
       "3      Texas Tech  B12  38  31  115.2   85.2   0.9696   53.5   43.0  17.7   \n",
       "4         Gonzaga  WCC  39  37  117.8   86.3   0.9728   56.6   41.1  16.2   \n",
       "5        Kentucky  SEC  40  29  117.2   96.2   0.9062   49.9   46.0  18.1   \n",
       "6        Michigan  B10  38  30  121.5   93.7   0.9522   54.6   48.0  14.6   \n",
       "7            Duke  ACC  39  35  125.2   90.6   0.9764   56.6   46.5  16.3   \n",
       "8        Virginia  ACC  38  35  123.0   89.9   0.9736   55.2   44.7  14.7   \n",
       "9  North Carolina  ACC  39  33  121.0   91.5   0.9615   51.7   48.1  16.2   \n",
       "\n",
       "   ...  FTRD  2P_O  2P_D  3P_O  3P_D  ADJ_T   WAB  POSTSEASON  SEED  YEAR  \n",
       "0  ...  30.4  53.9  44.6  32.7  36.2   71.7   8.6         2ND   1.0  2016  \n",
       "1  ...  22.4  54.8  44.7  36.5  37.5   59.3  11.3         2ND   1.0  2015  \n",
       "2  ...  30.0  54.7  46.8  35.2  33.2   65.9   6.9         2ND   3.0  2018  \n",
       "3  ...  36.6  52.8  41.9  36.5  29.7   67.5   7.0         2ND   3.0  2019  \n",
       "4  ...  26.9  56.3  40.0  38.2  29.0   71.5   7.7         2ND   1.0  2017  \n",
       "5  ...  36.8  50.0  44.9  33.2  32.2   65.9   3.9         2ND   8.0  2014  \n",
       "6  ...  22.7  53.4  47.6  37.9  32.6   64.8   6.2         2ND   4.0  2013  \n",
       "7  ...  23.9  55.9  46.3  38.7  31.4   66.4  10.7   Champions   1.0  2015  \n",
       "8  ...  26.3  52.5  45.7  39.5  28.9   60.7  11.1   Champions   1.0  2019  \n",
       "9  ...  31.6  51.0  46.3  35.5  33.9   72.8   8.4   Champions   1.0  2017  \n",
       "\n",
       "[10 rows x 24 columns]"
      ]
     },
     "execution_count": 4,
     "metadata": {},
     "output_type": "execute_result"
    }
   ],
   "source": [
    "import numpy as np\n",
    "import pandas as pd\n",
    "import matplotlib.pyplot as plt\n",
    "\n",
    "#data set from https://www.kaggle.com/andrewsundberg/college-basketball-dataset?select=cbb.csv\n",
    "rawdata = pd.read_csv(\"https://github.com/kharmer9/IST652_Final/raw/main/cbb.csv\") #2013-2019 seasons\n",
    "rawdata.head(10)"
   ]
  },
  {
   "cell_type": "code",
   "execution_count": 3,
   "id": "87f3b44d",
   "metadata": {},
   "outputs": [
    {
     "name": "stdout",
     "output_type": "stream",
     "text": [
      "POSTSEASON\n",
      "SEED\n"
     ]
    }
   ],
   "source": [
    "for col in rawdata.columns: #cycles through columns\n",
    "    if sum(rawdata[col].isna()) != 0: #detecting any NAs\n",
    "        print(col) #printing any column with an NA\n",
    "    elif sum(rawdata[col].isnull()) != 0: #detecting and NULL\n",
    "        print(col) #printing any column with a NULL (that did not already register with NA)\n",
    "        \n",
    "for i in range(len(rawdata.duplicated())): #all rows\n",
    "    if rawdata.duplicated()[i] == True: #filtering to duplicates for each row\n",
    "        print(\"Entry \" + str(i) + \" is duplicated.\") #printing row index"
   ]
  },
  {
   "cell_type": "markdown",
   "id": "a068b108",
   "metadata": {},
   "source": [
    "It is okay that SEED and POSTSEASON have some empty columns; not all teams can make the tournament or get to the Elite 8. There are no visible duplications. Now, let's check that the data set is complete."
   ]
  },
  {
   "cell_type": "code",
   "execution_count": 4,
   "id": "64477619",
   "metadata": {},
   "outputs": [
    {
     "name": "stdout",
     "output_type": "stream",
     "text": [
      "All seeds are recorded.\n",
      "All Postseasons are recorded.\n"
     ]
    }
   ],
   "source": [
    "# We have 68 teams that make the tournament every year and 7 years to consider. So we should have 476 teams that receive seeds.\n",
    "if (rawdata.shape[0] - sum(rawdata[\"SEED\"].isna())) == 476:\n",
    "    print(\"All seeds are recorded.\")\n",
    "    \n",
    "# Additionally, we should see 476 tournament results\n",
    "if (rawdata.shape[0] - sum(rawdata[\"POSTSEASON\"].isna())) == 476:\n",
    "    print(\"All Postseasons are recorded.\")"
   ]
  },
  {
   "cell_type": "markdown",
   "id": "23a5ec96",
   "metadata": {},
   "source": [
    "The data set appears to be complete. If it was not, NA's would be interpolated based on their team average (conference if team was unavailable). If the results showed any extreme discrepencies based on that filtering, the points (school) would be removed all together. Duplicated occurances would also be removed."
   ]
  },
  {
   "cell_type": "code",
   "execution_count": 5,
   "id": "e2a5a99d",
   "metadata": {},
   "outputs": [],
   "source": [
    "data = rawdata #adding columns to the data set"
   ]
  },
  {
   "cell_type": "code",
   "execution_count": 40,
   "id": "887dcb85",
   "metadata": {},
   "outputs": [
    {
     "name": "stderr",
     "output_type": "stream",
     "text": [
      "C:\\Users\\kharm\\AppData\\Local\\Temp/ipykernel_11156/3544532601.py:2: SettingWithCopyWarning: \n",
      "A value is trying to be set on a copy of a slice from a DataFrame\n",
      "\n",
      "See the caveats in the documentation: https://pandas.pydata.org/pandas-docs/stable/user_guide/indexing.html#returning-a-view-versus-a-copy\n",
      "  SEEDSCORE[rawdata[\"SEED\"].isna()] = 17 # setting all teams that did not make tournament to 17 seed\n",
      "C:\\Users\\kharm\\AppData\\Local\\Temp/ipykernel_11156/3544532601.py:6: SettingWithCopyWarning: \n",
      "A value is trying to be set on a copy of a slice from a DataFrame\n",
      "\n",
      "See the caveats in the documentation: https://pandas.pydata.org/pandas-docs/stable/user_guide/indexing.html#returning-a-view-versus-a-copy\n",
      "  data[\"SEED\"][rawdata[\"SEED\"].isna()] = \"NTA\" #no tournament appearance\n",
      "C:\\Users\\kharm\\AppData\\Local\\Temp/ipykernel_11156/3544532601.py:33: SettingWithCopyWarning: \n",
      "A value is trying to be set on a copy of a slice from a DataFrame\n",
      "\n",
      "See the caveats in the documentation: https://pandas.pydata.org/pandas-docs/stable/user_guide/indexing.html#returning-a-view-versus-a-copy\n",
      "  data[\"POSTSEASON\"][rawdata[\"POSTSEASON\"].isna()] = \"NTA\" #no tournament appearance\n"
     ]
    }
   ],
   "source": [
    "SEEDSCORE = rawdata[\"SEED\"] #new series to add score into project\n",
    "SEEDSCORE[rawdata[\"SEED\"].isna()] = 17 # setting all teams that did not make tournament to 17 seed\n",
    "SEEDSCORE = SEEDSCORE.to_numpy().astype(float) #converting series to array with float input for math\n",
    "data[\"SEEDSCORE\"] = 17 - SEEDSCORE #17-seedscore --> linearly increasing seedscore (0 as no tournament appearance to 16 for 1 seed)\n",
    "\n",
    "data[\"SEED\"][rawdata[\"SEED\"].isna()] = \"NTA\" #no tournament appearance\n",
    "\n",
    "'''\n",
    "#Total Games Before Loss Adjustment; will see for 2021 analysis, but not initial models\n",
    "TGBL = rawdata[\"POSTSEASON\"]\n",
    "for a in range(len(data[\"POSTSEASON\"])):\n",
    "    if data[\"POSTSEASON\"][a] == \"Champions\":\n",
    "        TGBL[a] = 7.0\n",
    "    elif data[\"POSTSEASON\"][a] == \"R68\":\n",
    "        TGBL[a] = 0.0\n",
    "    elif data[\"POSTSEASON\"][a] == \"R64\":\n",
    "        TGBL[a] = 1.0\n",
    "    elif data[\"POSTSEASON\"][a] == \"R32\":\n",
    "        TGBL[a] = 2.0\n",
    "    elif data[\"POSTSEASON\"][a] == \"S16\":\n",
    "        TGBL[a] = 3.0\n",
    "    elif data[\"POSTSEASON\"][a] == \"E8\":\n",
    "        TGBL[a] = 4.0\n",
    "    elif data[\"POSTSEASON\"][a] == \"F4\":\n",
    "        TGBL[a] = 5.0\n",
    "    elif data[\"POSTSEASON\"][a] == \"2ND\":\n",
    "        TGBL[a] = 6.0\n",
    "    else:\n",
    "        TGBL[a] = 0.0\n",
    "data[\"TGBL\"] = TGBL.to_numpy().astype(float)\n",
    "'''\n",
    "\n",
    "data[\"POSTSEASON\"][rawdata[\"POSTSEASON\"].isna()] = \"NTA\" #no tournament appearance\n",
    "data[\"POSTSEASON\"] = data[\"POSTSEASON\"].astype(object) #factorizing postseason variable\n",
    "\n",
    "data[\"TEAM\"] = data[\"TEAM\"].astype(object) #factorizing team\n",
    "data[\"CONF\"] = data[\"CONF\"].astype(object) #factorizing conference"
   ]
  },
  {
   "cell_type": "code",
   "execution_count": 122,
   "id": "bf2df7ac",
   "metadata": {},
   "outputs": [
    {
     "data": {
      "text/html": [
       "<div>\n",
       "<style scoped>\n",
       "    .dataframe tbody tr th:only-of-type {\n",
       "        vertical-align: middle;\n",
       "    }\n",
       "\n",
       "    .dataframe tbody tr th {\n",
       "        vertical-align: top;\n",
       "    }\n",
       "\n",
       "    .dataframe thead th {\n",
       "        text-align: right;\n",
       "    }\n",
       "</style>\n",
       "<table border=\"1\" class=\"dataframe\">\n",
       "  <thead>\n",
       "    <tr style=\"text-align: right;\">\n",
       "      <th></th>\n",
       "      <th>G</th>\n",
       "      <th>W</th>\n",
       "      <th>ADJOE</th>\n",
       "      <th>ADJDE</th>\n",
       "      <th>BARTHAG</th>\n",
       "      <th>EFG_O</th>\n",
       "      <th>EFG_D</th>\n",
       "      <th>TOR</th>\n",
       "      <th>TORD</th>\n",
       "      <th>ORB</th>\n",
       "      <th>...</th>\n",
       "      <th>FTR</th>\n",
       "      <th>FTRD</th>\n",
       "      <th>2P_O</th>\n",
       "      <th>2P_D</th>\n",
       "      <th>3P_O</th>\n",
       "      <th>3P_D</th>\n",
       "      <th>ADJ_T</th>\n",
       "      <th>WAB</th>\n",
       "      <th>SEED</th>\n",
       "      <th>SEEDSCORE</th>\n",
       "    </tr>\n",
       "    <tr>\n",
       "      <th>YEAR</th>\n",
       "      <th></th>\n",
       "      <th></th>\n",
       "      <th></th>\n",
       "      <th></th>\n",
       "      <th></th>\n",
       "      <th></th>\n",
       "      <th></th>\n",
       "      <th></th>\n",
       "      <th></th>\n",
       "      <th></th>\n",
       "      <th></th>\n",
       "      <th></th>\n",
       "      <th></th>\n",
       "      <th></th>\n",
       "      <th></th>\n",
       "      <th></th>\n",
       "      <th></th>\n",
       "      <th></th>\n",
       "      <th></th>\n",
       "      <th></th>\n",
       "      <th></th>\n",
       "    </tr>\n",
       "  </thead>\n",
       "  <tbody>\n",
       "    <tr>\n",
       "      <th>2013</th>\n",
       "      <td>31.475504</td>\n",
       "      <td>15.737752</td>\n",
       "      <td>100.804611</td>\n",
       "      <td>100.806052</td>\n",
       "      <td>0.495413</td>\n",
       "      <td>48.536023</td>\n",
       "      <td>48.742651</td>\n",
       "      <td>20.025937</td>\n",
       "      <td>19.954755</td>\n",
       "      <td>31.599424</td>\n",
       "      <td>...</td>\n",
       "      <td>35.970605</td>\n",
       "      <td>36.227666</td>\n",
       "      <td>47.460231</td>\n",
       "      <td>47.670029</td>\n",
       "      <td>33.724207</td>\n",
       "      <td>33.952450</td>\n",
       "      <td>65.954467</td>\n",
       "      <td>-7.993948</td>\n",
       "      <td>15.397695</td>\n",
       "      <td>1.602305</td>\n",
       "    </tr>\n",
       "    <tr>\n",
       "      <th>2014</th>\n",
       "      <td>31.356125</td>\n",
       "      <td>15.678063</td>\n",
       "      <td>104.584900</td>\n",
       "      <td>104.584046</td>\n",
       "      <td>0.495318</td>\n",
       "      <td>49.481197</td>\n",
       "      <td>49.686895</td>\n",
       "      <td>18.371795</td>\n",
       "      <td>18.281197</td>\n",
       "      <td>31.167521</td>\n",
       "      <td>...</td>\n",
       "      <td>40.473219</td>\n",
       "      <td>40.800285</td>\n",
       "      <td>48.458689</td>\n",
       "      <td>48.659544</td>\n",
       "      <td>34.294302</td>\n",
       "      <td>34.506553</td>\n",
       "      <td>66.595726</td>\n",
       "      <td>-7.439886</td>\n",
       "      <td>15.418803</td>\n",
       "      <td>1.581197</td>\n",
       "    </tr>\n",
       "    <tr>\n",
       "      <th>2015</th>\n",
       "      <td>31.333333</td>\n",
       "      <td>15.666667</td>\n",
       "      <td>102.315385</td>\n",
       "      <td>102.311681</td>\n",
       "      <td>0.493902</td>\n",
       "      <td>48.973789</td>\n",
       "      <td>49.180627</td>\n",
       "      <td>19.125641</td>\n",
       "      <td>19.039886</td>\n",
       "      <td>30.862963</td>\n",
       "      <td>...</td>\n",
       "      <td>37.043305</td>\n",
       "      <td>37.326781</td>\n",
       "      <td>47.732194</td>\n",
       "      <td>47.917379</td>\n",
       "      <td>34.165527</td>\n",
       "      <td>34.402564</td>\n",
       "      <td>64.936467</td>\n",
       "      <td>-7.764957</td>\n",
       "      <td>15.410256</td>\n",
       "      <td>1.589744</td>\n",
       "    </tr>\n",
       "    <tr>\n",
       "      <th>2016</th>\n",
       "      <td>31.430199</td>\n",
       "      <td>15.712251</td>\n",
       "      <td>103.866382</td>\n",
       "      <td>103.866382</td>\n",
       "      <td>0.492795</td>\n",
       "      <td>49.777208</td>\n",
       "      <td>49.970085</td>\n",
       "      <td>18.184046</td>\n",
       "      <td>18.119943</td>\n",
       "      <td>29.618234</td>\n",
       "      <td>...</td>\n",
       "      <td>36.638177</td>\n",
       "      <td>36.936182</td>\n",
       "      <td>48.661823</td>\n",
       "      <td>48.823077</td>\n",
       "      <td>34.537892</td>\n",
       "      <td>34.729630</td>\n",
       "      <td>69.100855</td>\n",
       "      <td>-7.821652</td>\n",
       "      <td>15.407407</td>\n",
       "      <td>1.592593</td>\n",
       "    </tr>\n",
       "    <tr>\n",
       "      <th>2017</th>\n",
       "      <td>31.538462</td>\n",
       "      <td>17.002849</td>\n",
       "      <td>103.840456</td>\n",
       "      <td>103.841880</td>\n",
       "      <td>0.492494</td>\n",
       "      <td>50.381197</td>\n",
       "      <td>50.573219</td>\n",
       "      <td>18.594017</td>\n",
       "      <td>18.543305</td>\n",
       "      <td>29.120798</td>\n",
       "      <td>...</td>\n",
       "      <td>35.328205</td>\n",
       "      <td>35.642450</td>\n",
       "      <td>49.283191</td>\n",
       "      <td>49.436467</td>\n",
       "      <td>34.860969</td>\n",
       "      <td>35.054131</td>\n",
       "      <td>69.481766</td>\n",
       "      <td>-7.847293</td>\n",
       "      <td>15.410256</td>\n",
       "      <td>1.589744</td>\n",
       "    </tr>\n",
       "    <tr>\n",
       "      <th>2018</th>\n",
       "      <td>31.566952</td>\n",
       "      <td>17.068376</td>\n",
       "      <td>104.354986</td>\n",
       "      <td>104.357265</td>\n",
       "      <td>0.494586</td>\n",
       "      <td>50.866667</td>\n",
       "      <td>51.062963</td>\n",
       "      <td>18.448718</td>\n",
       "      <td>18.379772</td>\n",
       "      <td>28.543590</td>\n",
       "      <td>...</td>\n",
       "      <td>33.537607</td>\n",
       "      <td>33.770940</td>\n",
       "      <td>49.937322</td>\n",
       "      <td>50.074074</td>\n",
       "      <td>34.966952</td>\n",
       "      <td>35.123647</td>\n",
       "      <td>69.419373</td>\n",
       "      <td>-7.968376</td>\n",
       "      <td>15.410256</td>\n",
       "      <td>1.589744</td>\n",
       "    </tr>\n",
       "    <tr>\n",
       "      <th>2019</th>\n",
       "      <td>31.745042</td>\n",
       "      <td>17.113314</td>\n",
       "      <td>103.335977</td>\n",
       "      <td>103.336261</td>\n",
       "      <td>0.493214</td>\n",
       "      <td>50.600850</td>\n",
       "      <td>50.774504</td>\n",
       "      <td>18.606516</td>\n",
       "      <td>18.523513</td>\n",
       "      <td>28.245892</td>\n",
       "      <td>...</td>\n",
       "      <td>32.954391</td>\n",
       "      <td>33.202550</td>\n",
       "      <td>50.060057</td>\n",
       "      <td>50.233994</td>\n",
       "      <td>34.287819</td>\n",
       "      <td>34.415864</td>\n",
       "      <td>69.168555</td>\n",
       "      <td>-7.783569</td>\n",
       "      <td>15.419263</td>\n",
       "      <td>1.580737</td>\n",
       "    </tr>\n",
       "  </tbody>\n",
       "</table>\n",
       "<p>7 rows × 21 columns</p>\n",
       "</div>"
      ],
      "text/plain": [
       "              G          W       ADJOE       ADJDE   BARTHAG      EFG_O  \\\n",
       "YEAR                                                                      \n",
       "2013  31.475504  15.737752  100.804611  100.806052  0.495413  48.536023   \n",
       "2014  31.356125  15.678063  104.584900  104.584046  0.495318  49.481197   \n",
       "2015  31.333333  15.666667  102.315385  102.311681  0.493902  48.973789   \n",
       "2016  31.430199  15.712251  103.866382  103.866382  0.492795  49.777208   \n",
       "2017  31.538462  17.002849  103.840456  103.841880  0.492494  50.381197   \n",
       "2018  31.566952  17.068376  104.354986  104.357265  0.494586  50.866667   \n",
       "2019  31.745042  17.113314  103.335977  103.336261  0.493214  50.600850   \n",
       "\n",
       "          EFG_D        TOR       TORD        ORB  ...        FTR       FTRD  \\\n",
       "YEAR                                              ...                         \n",
       "2013  48.742651  20.025937  19.954755  31.599424  ...  35.970605  36.227666   \n",
       "2014  49.686895  18.371795  18.281197  31.167521  ...  40.473219  40.800285   \n",
       "2015  49.180627  19.125641  19.039886  30.862963  ...  37.043305  37.326781   \n",
       "2016  49.970085  18.184046  18.119943  29.618234  ...  36.638177  36.936182   \n",
       "2017  50.573219  18.594017  18.543305  29.120798  ...  35.328205  35.642450   \n",
       "2018  51.062963  18.448718  18.379772  28.543590  ...  33.537607  33.770940   \n",
       "2019  50.774504  18.606516  18.523513  28.245892  ...  32.954391  33.202550   \n",
       "\n",
       "           2P_O       2P_D       3P_O       3P_D      ADJ_T       WAB  \\\n",
       "YEAR                                                                    \n",
       "2013  47.460231  47.670029  33.724207  33.952450  65.954467 -7.993948   \n",
       "2014  48.458689  48.659544  34.294302  34.506553  66.595726 -7.439886   \n",
       "2015  47.732194  47.917379  34.165527  34.402564  64.936467 -7.764957   \n",
       "2016  48.661823  48.823077  34.537892  34.729630  69.100855 -7.821652   \n",
       "2017  49.283191  49.436467  34.860969  35.054131  69.481766 -7.847293   \n",
       "2018  49.937322  50.074074  34.966952  35.123647  69.419373 -7.968376   \n",
       "2019  50.060057  50.233994  34.287819  34.415864  69.168555 -7.783569   \n",
       "\n",
       "           SEED  SEEDSCORE  \n",
       "YEAR                        \n",
       "2013  15.397695   1.602305  \n",
       "2014  15.418803   1.581197  \n",
       "2015  15.410256   1.589744  \n",
       "2016  15.407407   1.592593  \n",
       "2017  15.410256   1.589744  \n",
       "2018  15.410256   1.589744  \n",
       "2019  15.419263   1.580737  \n",
       "\n",
       "[7 rows x 21 columns]"
      ]
     },
     "execution_count": 122,
     "metadata": {},
     "output_type": "execute_result"
    }
   ],
   "source": [
    "data.groupby(\"YEAR\").agg(\"mean\")"
   ]
  },
  {
   "cell_type": "code",
   "execution_count": 133,
   "id": "dc693c52",
   "metadata": {},
   "outputs": [
    {
     "data": {
      "text/html": [
       "<div>\n",
       "<style scoped>\n",
       "    .dataframe tbody tr th:only-of-type {\n",
       "        vertical-align: middle;\n",
       "    }\n",
       "\n",
       "    .dataframe tbody tr th {\n",
       "        vertical-align: top;\n",
       "    }\n",
       "\n",
       "    .dataframe thead th {\n",
       "        text-align: right;\n",
       "    }\n",
       "</style>\n",
       "<table border=\"1\" class=\"dataframe\">\n",
       "  <thead>\n",
       "    <tr style=\"text-align: right;\">\n",
       "      <th></th>\n",
       "      <th>G</th>\n",
       "      <th>W</th>\n",
       "      <th>ADJOE</th>\n",
       "      <th>ADJDE</th>\n",
       "      <th>BARTHAG</th>\n",
       "      <th>EFG_O</th>\n",
       "      <th>EFG_D</th>\n",
       "      <th>WAB</th>\n",
       "      <th>SEED</th>\n",
       "      <th>SEEDSCORE</th>\n",
       "    </tr>\n",
       "  </thead>\n",
       "  <tbody>\n",
       "    <tr>\n",
       "      <th>G</th>\n",
       "      <td>1.000000</td>\n",
       "      <td>0.724819</td>\n",
       "      <td>0.605112</td>\n",
       "      <td>-0.607700</td>\n",
       "      <td>0.693992</td>\n",
       "      <td>0.337732</td>\n",
       "      <td>-0.472541</td>\n",
       "      <td>0.664089</td>\n",
       "      <td>-0.550802</td>\n",
       "      <td>0.550802</td>\n",
       "    </tr>\n",
       "    <tr>\n",
       "      <th>W</th>\n",
       "      <td>0.724819</td>\n",
       "      <td>1.000000</td>\n",
       "      <td>0.752293</td>\n",
       "      <td>-0.693442</td>\n",
       "      <td>0.827366</td>\n",
       "      <td>0.607659</td>\n",
       "      <td>-0.593197</td>\n",
       "      <td>0.911297</td>\n",
       "      <td>-0.621660</td>\n",
       "      <td>0.621660</td>\n",
       "    </tr>\n",
       "    <tr>\n",
       "      <th>ADJOE</th>\n",
       "      <td>0.605112</td>\n",
       "      <td>0.752293</td>\n",
       "      <td>1.000000</td>\n",
       "      <td>-0.483926</td>\n",
       "      <td>0.860405</td>\n",
       "      <td>0.732286</td>\n",
       "      <td>-0.294531</td>\n",
       "      <td>0.839252</td>\n",
       "      <td>-0.611865</td>\n",
       "      <td>0.611865</td>\n",
       "    </tr>\n",
       "    <tr>\n",
       "      <th>ADJDE</th>\n",
       "      <td>-0.607700</td>\n",
       "      <td>-0.693442</td>\n",
       "      <td>-0.483926</td>\n",
       "      <td>1.000000</td>\n",
       "      <td>-0.837534</td>\n",
       "      <td>-0.188506</td>\n",
       "      <td>0.796335</td>\n",
       "      <td>-0.794511</td>\n",
       "      <td>0.551414</td>\n",
       "      <td>-0.551414</td>\n",
       "    </tr>\n",
       "    <tr>\n",
       "      <th>BARTHAG</th>\n",
       "      <td>0.693992</td>\n",
       "      <td>0.827366</td>\n",
       "      <td>0.860405</td>\n",
       "      <td>-0.837534</td>\n",
       "      <td>1.000000</td>\n",
       "      <td>0.534765</td>\n",
       "      <td>-0.616040</td>\n",
       "      <td>0.941104</td>\n",
       "      <td>-0.617256</td>\n",
       "      <td>0.617256</td>\n",
       "    </tr>\n",
       "    <tr>\n",
       "      <th>EFG_O</th>\n",
       "      <td>0.337732</td>\n",
       "      <td>0.607659</td>\n",
       "      <td>0.732286</td>\n",
       "      <td>-0.188506</td>\n",
       "      <td>0.534765</td>\n",
       "      <td>1.000000</td>\n",
       "      <td>-0.081205</td>\n",
       "      <td>0.551550</td>\n",
       "      <td>-0.351238</td>\n",
       "      <td>0.351238</td>\n",
       "    </tr>\n",
       "    <tr>\n",
       "      <th>EFG_D</th>\n",
       "      <td>-0.472541</td>\n",
       "      <td>-0.593197</td>\n",
       "      <td>-0.294531</td>\n",
       "      <td>0.796335</td>\n",
       "      <td>-0.616040</td>\n",
       "      <td>-0.081205</td>\n",
       "      <td>1.000000</td>\n",
       "      <td>-0.614901</td>\n",
       "      <td>0.400614</td>\n",
       "      <td>-0.400614</td>\n",
       "    </tr>\n",
       "    <tr>\n",
       "      <th>WAB</th>\n",
       "      <td>0.664089</td>\n",
       "      <td>0.911297</td>\n",
       "      <td>0.839252</td>\n",
       "      <td>-0.794511</td>\n",
       "      <td>0.941104</td>\n",
       "      <td>0.551550</td>\n",
       "      <td>-0.614901</td>\n",
       "      <td>1.000000</td>\n",
       "      <td>-0.703696</td>\n",
       "      <td>0.703696</td>\n",
       "    </tr>\n",
       "    <tr>\n",
       "      <th>SEED</th>\n",
       "      <td>-0.550802</td>\n",
       "      <td>-0.621660</td>\n",
       "      <td>-0.611865</td>\n",
       "      <td>0.551414</td>\n",
       "      <td>-0.617256</td>\n",
       "      <td>-0.351238</td>\n",
       "      <td>0.400614</td>\n",
       "      <td>-0.703696</td>\n",
       "      <td>1.000000</td>\n",
       "      <td>-1.000000</td>\n",
       "    </tr>\n",
       "    <tr>\n",
       "      <th>SEEDSCORE</th>\n",
       "      <td>0.550802</td>\n",
       "      <td>0.621660</td>\n",
       "      <td>0.611865</td>\n",
       "      <td>-0.551414</td>\n",
       "      <td>0.617256</td>\n",
       "      <td>0.351238</td>\n",
       "      <td>-0.400614</td>\n",
       "      <td>0.703696</td>\n",
       "      <td>-1.000000</td>\n",
       "      <td>1.000000</td>\n",
       "    </tr>\n",
       "  </tbody>\n",
       "</table>\n",
       "</div>"
      ],
      "text/plain": [
       "                  G         W     ADJOE     ADJDE   BARTHAG     EFG_O  \\\n",
       "G          1.000000  0.724819  0.605112 -0.607700  0.693992  0.337732   \n",
       "W          0.724819  1.000000  0.752293 -0.693442  0.827366  0.607659   \n",
       "ADJOE      0.605112  0.752293  1.000000 -0.483926  0.860405  0.732286   \n",
       "ADJDE     -0.607700 -0.693442 -0.483926  1.000000 -0.837534 -0.188506   \n",
       "BARTHAG    0.693992  0.827366  0.860405 -0.837534  1.000000  0.534765   \n",
       "EFG_O      0.337732  0.607659  0.732286 -0.188506  0.534765  1.000000   \n",
       "EFG_D     -0.472541 -0.593197 -0.294531  0.796335 -0.616040 -0.081205   \n",
       "WAB        0.664089  0.911297  0.839252 -0.794511  0.941104  0.551550   \n",
       "SEED      -0.550802 -0.621660 -0.611865  0.551414 -0.617256 -0.351238   \n",
       "SEEDSCORE  0.550802  0.621660  0.611865 -0.551414  0.617256  0.351238   \n",
       "\n",
       "              EFG_D       WAB      SEED  SEEDSCORE  \n",
       "G         -0.472541  0.664089 -0.550802   0.550802  \n",
       "W         -0.593197  0.911297 -0.621660   0.621660  \n",
       "ADJOE     -0.294531  0.839252 -0.611865   0.611865  \n",
       "ADJDE      0.796335 -0.794511  0.551414  -0.551414  \n",
       "BARTHAG   -0.616040  0.941104 -0.617256   0.617256  \n",
       "EFG_O     -0.081205  0.551550 -0.351238   0.351238  \n",
       "EFG_D      1.000000 -0.614901  0.400614  -0.400614  \n",
       "WAB       -0.614901  1.000000 -0.703696   0.703696  \n",
       "SEED       0.400614 -0.703696  1.000000  -1.000000  \n",
       "SEEDSCORE -0.400614  0.703696 -1.000000   1.000000  "
      ]
     },
     "execution_count": 133,
     "metadata": {},
     "output_type": "execute_result"
    }
   ],
   "source": [
    "data.drop(columns = [\"YEAR\", \"ADJ_T\",\"TOR\",\"TORD\",\"3P_O\",\"3P_D\",\"FTR\",\"FTRD\",\"2P_O\",\"2P_D\",\"ORB\",\"DRB\"]).corr() #columns were removed based on observed lack or correlation (needed to view all columns)"
   ]
  },
  {
   "cell_type": "markdown",
   "id": "85b098eb",
   "metadata": {},
   "source": [
    "# 3. Data Manipulation"
   ]
  },
  {
   "cell_type": "markdown",
   "id": "f0fff0c9",
   "metadata": {},
   "source": [
    "### 3a. Adjusting Data for Seeding Analysis"
   ]
  },
  {
   "cell_type": "code",
   "execution_count": 41,
   "id": "5b9750e3",
   "metadata": {},
   "outputs": [
    {
     "data": {
      "text/html": [
       "<div>\n",
       "<style scoped>\n",
       "    .dataframe tbody tr th:only-of-type {\n",
       "        vertical-align: middle;\n",
       "    }\n",
       "\n",
       "    .dataframe tbody tr th {\n",
       "        vertical-align: top;\n",
       "    }\n",
       "\n",
       "    .dataframe thead th {\n",
       "        text-align: right;\n",
       "    }\n",
       "</style>\n",
       "<table border=\"1\" class=\"dataframe\">\n",
       "  <thead>\n",
       "    <tr style=\"text-align: right;\">\n",
       "      <th></th>\n",
       "      <th>TEAM</th>\n",
       "      <th>CONF</th>\n",
       "      <th>G</th>\n",
       "      <th>W</th>\n",
       "      <th>ADJOE</th>\n",
       "      <th>ADJDE</th>\n",
       "      <th>BARTHAG</th>\n",
       "      <th>EFG_O</th>\n",
       "      <th>EFG_D</th>\n",
       "      <th>TOR</th>\n",
       "      <th>...</th>\n",
       "      <th>FTRD</th>\n",
       "      <th>2P_O</th>\n",
       "      <th>2P_D</th>\n",
       "      <th>3P_O</th>\n",
       "      <th>3P_D</th>\n",
       "      <th>ADJ_T</th>\n",
       "      <th>WAB</th>\n",
       "      <th>SEED</th>\n",
       "      <th>YEAR</th>\n",
       "      <th>SEEDSCORE</th>\n",
       "    </tr>\n",
       "    <tr>\n",
       "      <th>YEARTEAM</th>\n",
       "      <th></th>\n",
       "      <th></th>\n",
       "      <th></th>\n",
       "      <th></th>\n",
       "      <th></th>\n",
       "      <th></th>\n",
       "      <th></th>\n",
       "      <th></th>\n",
       "      <th></th>\n",
       "      <th></th>\n",
       "      <th></th>\n",
       "      <th></th>\n",
       "      <th></th>\n",
       "      <th></th>\n",
       "      <th></th>\n",
       "      <th></th>\n",
       "      <th></th>\n",
       "      <th></th>\n",
       "      <th></th>\n",
       "      <th></th>\n",
       "      <th></th>\n",
       "    </tr>\n",
       "  </thead>\n",
       "  <tbody>\n",
       "    <tr>\n",
       "      <th>2016 North Carolina</th>\n",
       "      <td>North Carolina</td>\n",
       "      <td>ACC</td>\n",
       "      <td>40</td>\n",
       "      <td>33</td>\n",
       "      <td>123.3</td>\n",
       "      <td>94.9</td>\n",
       "      <td>0.9531</td>\n",
       "      <td>52.6</td>\n",
       "      <td>48.1</td>\n",
       "      <td>15.4</td>\n",
       "      <td>...</td>\n",
       "      <td>30.4</td>\n",
       "      <td>53.9</td>\n",
       "      <td>44.6</td>\n",
       "      <td>32.7</td>\n",
       "      <td>36.2</td>\n",
       "      <td>71.7</td>\n",
       "      <td>8.6</td>\n",
       "      <td>1.0</td>\n",
       "      <td>2016</td>\n",
       "      <td>16.0</td>\n",
       "    </tr>\n",
       "    <tr>\n",
       "      <th>2015 Wisconsin</th>\n",
       "      <td>Wisconsin</td>\n",
       "      <td>B10</td>\n",
       "      <td>40</td>\n",
       "      <td>36</td>\n",
       "      <td>129.1</td>\n",
       "      <td>93.6</td>\n",
       "      <td>0.9758</td>\n",
       "      <td>54.8</td>\n",
       "      <td>47.7</td>\n",
       "      <td>12.4</td>\n",
       "      <td>...</td>\n",
       "      <td>22.4</td>\n",
       "      <td>54.8</td>\n",
       "      <td>44.7</td>\n",
       "      <td>36.5</td>\n",
       "      <td>37.5</td>\n",
       "      <td>59.3</td>\n",
       "      <td>11.3</td>\n",
       "      <td>1.0</td>\n",
       "      <td>2015</td>\n",
       "      <td>16.0</td>\n",
       "    </tr>\n",
       "    <tr>\n",
       "      <th>2018 Michigan</th>\n",
       "      <td>Michigan</td>\n",
       "      <td>B10</td>\n",
       "      <td>40</td>\n",
       "      <td>33</td>\n",
       "      <td>114.4</td>\n",
       "      <td>90.4</td>\n",
       "      <td>0.9375</td>\n",
       "      <td>53.9</td>\n",
       "      <td>47.7</td>\n",
       "      <td>14.0</td>\n",
       "      <td>...</td>\n",
       "      <td>30.0</td>\n",
       "      <td>54.7</td>\n",
       "      <td>46.8</td>\n",
       "      <td>35.2</td>\n",
       "      <td>33.2</td>\n",
       "      <td>65.9</td>\n",
       "      <td>6.9</td>\n",
       "      <td>3.0</td>\n",
       "      <td>2018</td>\n",
       "      <td>14.0</td>\n",
       "    </tr>\n",
       "    <tr>\n",
       "      <th>2019 Texas Tech</th>\n",
       "      <td>Texas Tech</td>\n",
       "      <td>B12</td>\n",
       "      <td>38</td>\n",
       "      <td>31</td>\n",
       "      <td>115.2</td>\n",
       "      <td>85.2</td>\n",
       "      <td>0.9696</td>\n",
       "      <td>53.5</td>\n",
       "      <td>43.0</td>\n",
       "      <td>17.7</td>\n",
       "      <td>...</td>\n",
       "      <td>36.6</td>\n",
       "      <td>52.8</td>\n",
       "      <td>41.9</td>\n",
       "      <td>36.5</td>\n",
       "      <td>29.7</td>\n",
       "      <td>67.5</td>\n",
       "      <td>7.0</td>\n",
       "      <td>3.0</td>\n",
       "      <td>2019</td>\n",
       "      <td>14.0</td>\n",
       "    </tr>\n",
       "    <tr>\n",
       "      <th>2017 Gonzaga</th>\n",
       "      <td>Gonzaga</td>\n",
       "      <td>WCC</td>\n",
       "      <td>39</td>\n",
       "      <td>37</td>\n",
       "      <td>117.8</td>\n",
       "      <td>86.3</td>\n",
       "      <td>0.9728</td>\n",
       "      <td>56.6</td>\n",
       "      <td>41.1</td>\n",
       "      <td>16.2</td>\n",
       "      <td>...</td>\n",
       "      <td>26.9</td>\n",
       "      <td>56.3</td>\n",
       "      <td>40.0</td>\n",
       "      <td>38.2</td>\n",
       "      <td>29.0</td>\n",
       "      <td>71.5</td>\n",
       "      <td>7.7</td>\n",
       "      <td>1.0</td>\n",
       "      <td>2017</td>\n",
       "      <td>16.0</td>\n",
       "    </tr>\n",
       "  </tbody>\n",
       "</table>\n",
       "<p>5 rows × 24 columns</p>\n",
       "</div>"
      ],
      "text/plain": [
       "                               TEAM CONF   G   W  ADJOE  ADJDE  BARTHAG  \\\n",
       "YEARTEAM                                                                  \n",
       "2016 North Carolina  North Carolina  ACC  40  33  123.3   94.9   0.9531   \n",
       "2015 Wisconsin            Wisconsin  B10  40  36  129.1   93.6   0.9758   \n",
       "2018 Michigan              Michigan  B10  40  33  114.4   90.4   0.9375   \n",
       "2019 Texas Tech          Texas Tech  B12  38  31  115.2   85.2   0.9696   \n",
       "2017 Gonzaga                Gonzaga  WCC  39  37  117.8   86.3   0.9728   \n",
       "\n",
       "                     EFG_O  EFG_D   TOR  ...  FTRD  2P_O  2P_D  3P_O  3P_D  \\\n",
       "YEARTEAM                                 ...                                 \n",
       "2016 North Carolina   52.6   48.1  15.4  ...  30.4  53.9  44.6  32.7  36.2   \n",
       "2015 Wisconsin        54.8   47.7  12.4  ...  22.4  54.8  44.7  36.5  37.5   \n",
       "2018 Michigan         53.9   47.7  14.0  ...  30.0  54.7  46.8  35.2  33.2   \n",
       "2019 Texas Tech       53.5   43.0  17.7  ...  36.6  52.8  41.9  36.5  29.7   \n",
       "2017 Gonzaga          56.6   41.1  16.2  ...  26.9  56.3  40.0  38.2  29.0   \n",
       "\n",
       "                     ADJ_T   WAB  SEED  YEAR  SEEDSCORE  \n",
       "YEARTEAM                                                 \n",
       "2016 North Carolina   71.7   8.6   1.0  2016       16.0  \n",
       "2015 Wisconsin        59.3  11.3   1.0  2015       16.0  \n",
       "2018 Michigan         65.9   6.9   3.0  2018       14.0  \n",
       "2019 Texas Tech       67.5   7.0   3.0  2019       14.0  \n",
       "2017 Gonzaga          71.5   7.7   1.0  2017       16.0  \n",
       "\n",
       "[5 rows x 24 columns]"
      ]
     },
     "execution_count": 41,
     "metadata": {},
     "output_type": "execute_result"
    }
   ],
   "source": [
    "seeddata = data.drop(columns = [\"POSTSEASON\"]) #taking all of the data related to seeding\n",
    "YEARTEAM = [] #new index\n",
    "for a in range(len(rawdata)):\n",
    "    YEARTEAM.append(str(seeddata[\"YEAR\"][a])+ \" \" + str(seeddata[\"TEAM\"][a])) #year of team as index\n",
    "seeddata[\"YEARTEAM\"] = YEARTEAM #adding column\n",
    "#seeddata = seeddata.drop(columns = [\"YEAR\",\"TEAM\"])\n",
    "seeddata = seeddata.set_index(\"YEARTEAM\") #setting column as index\n",
    "seeddata.head()"
   ]
  },
  {
   "cell_type": "markdown",
   "id": "b9a8b54f",
   "metadata": {},
   "source": [
    "Now to adjust data based on statistical findings:"
   ]
  },
  {
   "cell_type": "code",
   "execution_count": 42,
   "id": "8aff7959",
   "metadata": {},
   "outputs": [],
   "source": [
    "from sklearn.model_selection import train_test_split\n",
    "\n",
    "# some data dropped is based on outside statistical analysis\n",
    "seedX = seeddata.drop(columns = [\"YEAR\",\"EFG_D\",\"TORD\",\"DRB\",\"FTRD\",\"2P_O\",\"2P_D\",\"3P_O\",\"3P_D\",\"ADJ_T\",\"SEED\",\"SEEDSCORE\"]) #seed predictor set\n",
    "seedy = seeddata[\"SEEDSCORE\"] #seedscore\n",
    "\n",
    "sXtrain, sXtest, sytrain, sytest = train_test_split(seedX, seedy, test_size=0.25, random_state = 1) #splitting into training and testing"
   ]
  },
  {
   "cell_type": "markdown",
   "id": "0e5febf3",
   "metadata": {},
   "source": [
    "### 3b. Adjusting Data for the Postseason Analysis"
   ]
  },
  {
   "cell_type": "code",
   "execution_count": 43,
   "id": "710182f2",
   "metadata": {
    "scrolled": true
   },
   "outputs": [
    {
     "data": {
      "text/html": [
       "<div>\n",
       "<style scoped>\n",
       "    .dataframe tbody tr th:only-of-type {\n",
       "        vertical-align: middle;\n",
       "    }\n",
       "\n",
       "    .dataframe tbody tr th {\n",
       "        vertical-align: top;\n",
       "    }\n",
       "\n",
       "    .dataframe thead th {\n",
       "        text-align: right;\n",
       "    }\n",
       "</style>\n",
       "<table border=\"1\" class=\"dataframe\">\n",
       "  <thead>\n",
       "    <tr style=\"text-align: right;\">\n",
       "      <th></th>\n",
       "      <th>TEAM</th>\n",
       "      <th>CONF</th>\n",
       "      <th>G</th>\n",
       "      <th>W</th>\n",
       "      <th>ADJOE</th>\n",
       "      <th>ADJDE</th>\n",
       "      <th>BARTHAG</th>\n",
       "      <th>EFG_O</th>\n",
       "      <th>EFG_D</th>\n",
       "      <th>TOR</th>\n",
       "      <th>...</th>\n",
       "      <th>2P_O</th>\n",
       "      <th>2P_D</th>\n",
       "      <th>3P_O</th>\n",
       "      <th>3P_D</th>\n",
       "      <th>ADJ_T</th>\n",
       "      <th>WAB</th>\n",
       "      <th>POSTSEASON</th>\n",
       "      <th>SEED</th>\n",
       "      <th>YEAR</th>\n",
       "      <th>SEEDSCORE</th>\n",
       "    </tr>\n",
       "    <tr>\n",
       "      <th>YEARTEAM</th>\n",
       "      <th></th>\n",
       "      <th></th>\n",
       "      <th></th>\n",
       "      <th></th>\n",
       "      <th></th>\n",
       "      <th></th>\n",
       "      <th></th>\n",
       "      <th></th>\n",
       "      <th></th>\n",
       "      <th></th>\n",
       "      <th></th>\n",
       "      <th></th>\n",
       "      <th></th>\n",
       "      <th></th>\n",
       "      <th></th>\n",
       "      <th></th>\n",
       "      <th></th>\n",
       "      <th></th>\n",
       "      <th></th>\n",
       "      <th></th>\n",
       "      <th></th>\n",
       "    </tr>\n",
       "  </thead>\n",
       "  <tbody>\n",
       "    <tr>\n",
       "      <th>2016 North Carolina</th>\n",
       "      <td>North Carolina</td>\n",
       "      <td>ACC</td>\n",
       "      <td>40</td>\n",
       "      <td>33</td>\n",
       "      <td>123.3</td>\n",
       "      <td>94.9</td>\n",
       "      <td>0.9531</td>\n",
       "      <td>52.6</td>\n",
       "      <td>48.1</td>\n",
       "      <td>15.4</td>\n",
       "      <td>...</td>\n",
       "      <td>53.9</td>\n",
       "      <td>44.6</td>\n",
       "      <td>32.7</td>\n",
       "      <td>36.2</td>\n",
       "      <td>71.7</td>\n",
       "      <td>8.6</td>\n",
       "      <td>2ND</td>\n",
       "      <td>1.0</td>\n",
       "      <td>2016</td>\n",
       "      <td>16.0</td>\n",
       "    </tr>\n",
       "    <tr>\n",
       "      <th>2015 Wisconsin</th>\n",
       "      <td>Wisconsin</td>\n",
       "      <td>B10</td>\n",
       "      <td>40</td>\n",
       "      <td>36</td>\n",
       "      <td>129.1</td>\n",
       "      <td>93.6</td>\n",
       "      <td>0.9758</td>\n",
       "      <td>54.8</td>\n",
       "      <td>47.7</td>\n",
       "      <td>12.4</td>\n",
       "      <td>...</td>\n",
       "      <td>54.8</td>\n",
       "      <td>44.7</td>\n",
       "      <td>36.5</td>\n",
       "      <td>37.5</td>\n",
       "      <td>59.3</td>\n",
       "      <td>11.3</td>\n",
       "      <td>2ND</td>\n",
       "      <td>1.0</td>\n",
       "      <td>2015</td>\n",
       "      <td>16.0</td>\n",
       "    </tr>\n",
       "    <tr>\n",
       "      <th>2018 Michigan</th>\n",
       "      <td>Michigan</td>\n",
       "      <td>B10</td>\n",
       "      <td>40</td>\n",
       "      <td>33</td>\n",
       "      <td>114.4</td>\n",
       "      <td>90.4</td>\n",
       "      <td>0.9375</td>\n",
       "      <td>53.9</td>\n",
       "      <td>47.7</td>\n",
       "      <td>14.0</td>\n",
       "      <td>...</td>\n",
       "      <td>54.7</td>\n",
       "      <td>46.8</td>\n",
       "      <td>35.2</td>\n",
       "      <td>33.2</td>\n",
       "      <td>65.9</td>\n",
       "      <td>6.9</td>\n",
       "      <td>2ND</td>\n",
       "      <td>3.0</td>\n",
       "      <td>2018</td>\n",
       "      <td>14.0</td>\n",
       "    </tr>\n",
       "    <tr>\n",
       "      <th>2019 Texas Tech</th>\n",
       "      <td>Texas Tech</td>\n",
       "      <td>B12</td>\n",
       "      <td>38</td>\n",
       "      <td>31</td>\n",
       "      <td>115.2</td>\n",
       "      <td>85.2</td>\n",
       "      <td>0.9696</td>\n",
       "      <td>53.5</td>\n",
       "      <td>43.0</td>\n",
       "      <td>17.7</td>\n",
       "      <td>...</td>\n",
       "      <td>52.8</td>\n",
       "      <td>41.9</td>\n",
       "      <td>36.5</td>\n",
       "      <td>29.7</td>\n",
       "      <td>67.5</td>\n",
       "      <td>7.0</td>\n",
       "      <td>2ND</td>\n",
       "      <td>3.0</td>\n",
       "      <td>2019</td>\n",
       "      <td>14.0</td>\n",
       "    </tr>\n",
       "    <tr>\n",
       "      <th>2017 Gonzaga</th>\n",
       "      <td>Gonzaga</td>\n",
       "      <td>WCC</td>\n",
       "      <td>39</td>\n",
       "      <td>37</td>\n",
       "      <td>117.8</td>\n",
       "      <td>86.3</td>\n",
       "      <td>0.9728</td>\n",
       "      <td>56.6</td>\n",
       "      <td>41.1</td>\n",
       "      <td>16.2</td>\n",
       "      <td>...</td>\n",
       "      <td>56.3</td>\n",
       "      <td>40.0</td>\n",
       "      <td>38.2</td>\n",
       "      <td>29.0</td>\n",
       "      <td>71.5</td>\n",
       "      <td>7.7</td>\n",
       "      <td>2ND</td>\n",
       "      <td>1.0</td>\n",
       "      <td>2017</td>\n",
       "      <td>16.0</td>\n",
       "    </tr>\n",
       "  </tbody>\n",
       "</table>\n",
       "<p>5 rows × 25 columns</p>\n",
       "</div>"
      ],
      "text/plain": [
       "                               TEAM CONF   G   W  ADJOE  ADJDE  BARTHAG  \\\n",
       "YEARTEAM                                                                  \n",
       "2016 North Carolina  North Carolina  ACC  40  33  123.3   94.9   0.9531   \n",
       "2015 Wisconsin            Wisconsin  B10  40  36  129.1   93.6   0.9758   \n",
       "2018 Michigan              Michigan  B10  40  33  114.4   90.4   0.9375   \n",
       "2019 Texas Tech          Texas Tech  B12  38  31  115.2   85.2   0.9696   \n",
       "2017 Gonzaga                Gonzaga  WCC  39  37  117.8   86.3   0.9728   \n",
       "\n",
       "                     EFG_O  EFG_D   TOR  ...  2P_O  2P_D  3P_O  3P_D  ADJ_T  \\\n",
       "YEARTEAM                                 ...                                  \n",
       "2016 North Carolina   52.6   48.1  15.4  ...  53.9  44.6  32.7  36.2   71.7   \n",
       "2015 Wisconsin        54.8   47.7  12.4  ...  54.8  44.7  36.5  37.5   59.3   \n",
       "2018 Michigan         53.9   47.7  14.0  ...  54.7  46.8  35.2  33.2   65.9   \n",
       "2019 Texas Tech       53.5   43.0  17.7  ...  52.8  41.9  36.5  29.7   67.5   \n",
       "2017 Gonzaga          56.6   41.1  16.2  ...  56.3  40.0  38.2  29.0   71.5   \n",
       "\n",
       "                      WAB  POSTSEASON  SEED  YEAR  SEEDSCORE  \n",
       "YEARTEAM                                                      \n",
       "2016 North Carolina   8.6         2ND   1.0  2016       16.0  \n",
       "2015 Wisconsin       11.3         2ND   1.0  2015       16.0  \n",
       "2018 Michigan         6.9         2ND   3.0  2018       14.0  \n",
       "2019 Texas Tech       7.0         2ND   3.0  2019       14.0  \n",
       "2017 Gonzaga          7.7         2ND   1.0  2017       16.0  \n",
       "\n",
       "[5 rows x 25 columns]"
      ]
     },
     "execution_count": 43,
     "metadata": {},
     "output_type": "execute_result"
    }
   ],
   "source": [
    "resultdata = data #result data\n",
    "YEARTEAM = [] #new index\n",
    "for a in range(len(rawdata)):\n",
    "    YEARTEAM.append(str(resultdata[\"YEAR\"][a])+ \" \" + str(resultdata[\"TEAM\"][a])) #year for team\n",
    "resultdata[\"YEARTEAM\"] = YEARTEAM #new column in df\n",
    "for a in range(resultdata.shape[0]):\n",
    "    if resultdata[\"POSTSEASON\"][a] == \"NTA\": #no tournament appearance --> dropping value\n",
    "        resultdata = resultdata.drop(a, axis = 0)\n",
    "resultdata = resultdata.set_index(\"YEARTEAM\") #setting year team as index\n",
    "resultdata.head()"
   ]
  },
  {
   "cell_type": "code",
   "execution_count": 44,
   "id": "6068e2a4",
   "metadata": {},
   "outputs": [],
   "source": [
    "# will include seeding initially even with colinearity\n",
    "# data used is based on external statsitical analysis\n",
    "resultX = resultdata.drop(columns = [\"YEAR\",\"EFG_O\",\"EFG_D\",\"TOR\",\"TORD\",\"ORB\",\"FTR\",\"FTRD\",\"2P_O\",\"2P_D\",\"3P_O\",\"3P_D\",\"ADJ_T\",\"POSTSEASON\",\"SEED\"]) #predictor data\n",
    "resulty = resultdata[\"POSTSEASON\"] #postseason data to be predicted\n",
    "\n",
    "rXtrain, rXtest, rytrain, rytest = train_test_split(resultX, resulty, test_size=0.25, random_state = 1) #splitting into training and testing set"
   ]
  },
  {
   "cell_type": "markdown",
   "id": "0d5defee",
   "metadata": {},
   "source": [
    "# 4. Support Vector Machines"
   ]
  },
  {
   "cell_type": "code",
   "execution_count": 45,
   "id": "db77a286",
   "metadata": {},
   "outputs": [],
   "source": [
    "from sklearn import decomposition #variable decomposition for SVM\n",
    "from sklearn.preprocessing import StandardScaler #variable decomposition for SVM\n",
    "from sklearn.model_selection import GridSearchCV #parameter tuning function\n",
    "from sklearn.svm import SVC #support vector machine function\n",
    "from sklearn.metrics import accuracy_score #accuracy of model"
   ]
  },
  {
   "cell_type": "markdown",
   "id": "1c7211a6",
   "metadata": {},
   "source": [
    "### 4a. Seeding Predictions"
   ]
  },
  {
   "cell_type": "code",
   "execution_count": 46,
   "id": "a7d43590",
   "metadata": {},
   "outputs": [],
   "source": [
    "sScale = StandardScaler() #scale for seeding svm\n",
    "sScale.fit(sXtrain.drop(columns = [\"TEAM\",\"CONF\"])) #sitting the scaling\n",
    "sXtrain_scale = sScale.transform(sXtrain.drop(columns = [\"TEAM\", \"CONF\"])) #transforming the train data for the reduction\n",
    "sXtest_scale = sScale.transform(sXtest.drop(columns = [\"TEAM\", \"CONF\"])) #transforming the test data for the reduction"
   ]
  },
  {
   "cell_type": "code",
   "execution_count": 47,
   "id": "bb35b209",
   "metadata": {},
   "outputs": [
    {
     "name": "stdout",
     "output_type": "stream",
     "text": [
      "Fitting 3 folds for each of 108 candidates, totalling 324 fits\n"
     ]
    },
    {
     "data": {
      "text/plain": [
       "GridSearchCV(cv=3, estimator=SVC(), n_jobs=10,\n",
       "             param_grid={'C': [0.01, 0.05, 0.1, 0.2], 'degree': [1, 2, 3],\n",
       "                         'gamma': [1, 3, 5],\n",
       "                         'kernel': ['linear', 'poly', 'rbf'],\n",
       "                         'probability': [True]},\n",
       "             return_train_score=True, scoring='accuracy', verbose=2)"
      ]
     },
     "execution_count": 47,
     "metadata": {},
     "output_type": "execute_result"
    }
   ],
   "source": [
    "svm_param = {'C': [0.01, 0.05, 0.1, 0.2], #regularization parameter\n",
    "              'degree': [1, 2, 3], #possible degrees of polynomial if \"poly\" kernel is used\n",
    "              'gamma': [1, 3, 5], #kernel coefficient\n",
    "              'kernel': [\"linear\",\"poly\",\"rbf\"], #kernel for algorithm\n",
    "              'probability': [True]} #parameters to test for svm\n",
    "\n",
    "grid_search1 = GridSearchCV(SVC(), svm_param, cv=3, n_jobs=10, #3 folds running 10 inputs at a time\n",
    "                          return_train_score=True, scoring='accuracy', verbose=2) #running through parameters for svm\n",
    "\n",
    "grid_search1.fit(sXtrain_scale, sytrain) #using data to find best fit"
   ]
  },
  {
   "cell_type": "code",
   "execution_count": 48,
   "id": "a2309fc1",
   "metadata": {},
   "outputs": [
    {
     "name": "stdout",
     "output_type": "stream",
     "text": [
      "Best parameters: {'C': 0.2, 'degree': 1, 'gamma': 5, 'kernel': 'poly', 'probability': True}\n",
      "Best cross-validation score: 0.8256372515157473\n"
     ]
    }
   ],
   "source": [
    "print(\"Best parameters: \" + str(grid_search1.best_params_)) #best parameters\n",
    "print(\"Best cross-validation score: \" + str(grid_search1.best_score_)) #with best accuracy"
   ]
  },
  {
   "cell_type": "code",
   "execution_count": 49,
   "id": "b91021ec",
   "metadata": {},
   "outputs": [],
   "source": [
    "svmseed = SVC(**grid_search1.best_params_) #new model with parameters\n",
    "\n",
    "svmseed.fit(sXtrain_scale,sytrain) #fitting training data\n",
    "seedpred = svmseed.predict(sXtest_scale) #prediction test set"
   ]
  },
  {
   "cell_type": "code",
   "execution_count": 50,
   "id": "85b376e3",
   "metadata": {},
   "outputs": [
    {
     "name": "stdout",
     "output_type": "stream",
     "text": [
      "accuracy: 0.8501628664495114\n"
     ]
    }
   ],
   "source": [
    "print(\"accuracy:\", accuracy_score(sytest,seedpred)) #accuracy"
   ]
  },
  {
   "cell_type": "markdown",
   "id": "2ec7b7ae",
   "metadata": {},
   "source": [
    "### 4b. Result Predictions"
   ]
  },
  {
   "cell_type": "code",
   "execution_count": 51,
   "id": "92880966",
   "metadata": {},
   "outputs": [],
   "source": [
    "rScale = StandardScaler() #results scaling\n",
    "rScale.fit(rXtrain.drop(columns=[\"TEAM\",\"CONF\"])) #fitting it to the reslts training data\n",
    "rXtrain_scale = rScale.transform(rXtrain.drop(columns=[\"TEAM\",\"CONF\"])) #scaling results training data\n",
    "rXtest_scale = rScale.transform(rXtest.drop(columns = [\"TEAM\",\"CONF\"])) #scaling results testing data"
   ]
  },
  {
   "cell_type": "code",
   "execution_count": 52,
   "id": "7ffdcb54",
   "metadata": {},
   "outputs": [
    {
     "name": "stdout",
     "output_type": "stream",
     "text": [
      "Fitting 3 folds for each of 108 candidates, totalling 324 fits\n"
     ]
    },
    {
     "data": {
      "text/plain": [
       "GridSearchCV(cv=3, estimator=SVC(), n_jobs=10,\n",
       "             param_grid={'C': [0.01, 0.05, 0.1, 0.2], 'degree': [1, 2, 3],\n",
       "                         'gamma': [1, 3, 5],\n",
       "                         'kernel': ['linear', 'poly', 'rbf'],\n",
       "                         'probability': [True]},\n",
       "             return_train_score=True, scoring='accuracy', verbose=2)"
      ]
     },
     "execution_count": 52,
     "metadata": {},
     "output_type": "execute_result"
    }
   ],
   "source": [
    "grid_search2 = GridSearchCV(SVC(), svm_param, cv=3, n_jobs=10,\n",
    "                          return_train_score=True, scoring='accuracy', verbose=2) #parameter tuning with same variables\n",
    "\n",
    "grid_search2.fit(rXtrain_scale,rytrain) #fitting the training data"
   ]
  },
  {
   "cell_type": "code",
   "execution_count": 53,
   "id": "7922b217",
   "metadata": {},
   "outputs": [
    {
     "name": "stdout",
     "output_type": "stream",
     "text": [
      "Best parameters: {'C': 0.2, 'degree': 1, 'gamma': 1, 'kernel': 'linear', 'probability': True}\n",
      "Best cross-validation score: 0.5742296918767508\n"
     ]
    }
   ],
   "source": [
    "print(\"Best parameters: \" + str(grid_search2.best_params_)) #best parameters\n",
    "print(\"Best cross-validation score: \" + str(grid_search2.best_score_)) #with best accuracy"
   ]
  },
  {
   "cell_type": "code",
   "execution_count": 54,
   "id": "94449921",
   "metadata": {},
   "outputs": [],
   "source": [
    "svmresult = SVC(**grid_search2.best_params_) #using the model parameters with strongest cross-validation accuracy\n",
    "\n",
    "svmresult.fit(rXtrain_scale,rytrain) #fitting the data to model\n",
    "resultpred = svmresult.predict(rXtest_scale) #predicting the tesing data"
   ]
  },
  {
   "cell_type": "code",
   "execution_count": 55,
   "id": "8c8ee79b",
   "metadata": {},
   "outputs": [
    {
     "name": "stdout",
     "output_type": "stream",
     "text": [
      "SVM Accuracy: 0.6386554621848739\n"
     ]
    }
   ],
   "source": [
    "print(\"SVM Accuracy:\", accuracy_score(rytest,resultpred)) #accuracy between given and predicted data"
   ]
  },
  {
   "cell_type": "markdown",
   "id": "85428461",
   "metadata": {},
   "source": [
    "# 5. Decision Tree Classifiers"
   ]
  },
  {
   "cell_type": "code",
   "execution_count": 56,
   "id": "6f95feae",
   "metadata": {},
   "outputs": [],
   "source": [
    "from sklearn.tree import DecisionTreeClassifier #decision tree classification\n",
    "from sklearn import tree"
   ]
  },
  {
   "cell_type": "markdown",
   "id": "bd3c4eff",
   "metadata": {},
   "source": [
    "### 5a. Seeding Predictions"
   ]
  },
  {
   "cell_type": "code",
   "execution_count": 57,
   "id": "7e84a6f0",
   "metadata": {},
   "outputs": [
    {
     "data": {
      "text/plain": [
       "DecisionTreeClassifier(max_depth=16, min_samples_leaf=20, random_state=1)"
      ]
     },
     "execution_count": 57,
     "metadata": {},
     "output_type": "execute_result"
    }
   ],
   "source": [
    "#depth = 16 for different seeding options, min samples at 20 for at least 20 observations in training set for each seed\n",
    "seed_tree = DecisionTreeClassifier(max_depth = 16,min_samples_leaf=20,random_state=1)\n",
    "seed_tree.fit(sXtrain.drop(columns = [\"TEAM\",\"CONF\"]),sytrain) #training model"
   ]
  },
  {
   "cell_type": "code",
   "execution_count": 58,
   "id": "8b6f5dc7",
   "metadata": {},
   "outputs": [
    {
     "name": "stdout",
     "output_type": "stream",
     "text": [
      "Decision Tree Accuracy of Testing Set: 0.8452768729641694\n"
     ]
    }
   ],
   "source": [
    "seed_tree_pred = seed_tree.predict(sXtest.drop(columns = [\"TEAM\",\"CONF\"])) #predicting seeding\n",
    "\n",
    "print(\"Decision Tree Accuracy of Testing Set: \" + str(accuracy_score(sytest,seed_tree_pred))) #test accuracy"
   ]
  },
  {
   "cell_type": "code",
   "execution_count": 59,
   "id": "9b5e7d56",
   "metadata": {},
   "outputs": [
    {
     "data": {
      "image/png": "[encoded data removed]",
      "text/plain": [
       "<Figure size 720x720 with 1 Axes>"
      ]
     },
     "metadata": {
      "needs_background": "light"
     },
     "output_type": "display_data"
    }
   ],
   "source": [
    "import matplotlib.pyplot as plt\n",
    "\n",
    "plt.figure(figsize=[10,10])\n",
    "seedplot = tree.plot_tree(seed_tree) #tree diagram!"
   ]
  },
  {
   "cell_type": "markdown",
   "id": "147e2c13",
   "metadata": {},
   "source": [
    "### 5b. Results Predictions"
   ]
  },
  {
   "cell_type": "code",
   "execution_count": 60,
   "id": "c2f91c8b",
   "metadata": {},
   "outputs": [
    {
     "data": {
      "text/plain": [
       "DecisionTreeClassifier(max_depth=7, random_state=1)"
      ]
     },
     "execution_count": 60,
     "metadata": {},
     "output_type": "execute_result"
    }
   ],
   "source": [
    "result_tree = DecisionTreeClassifier(max_depth = 7,random_state=1) #depth of 7 to compensate for each area of seeding\n",
    "result_tree.fit(rXtrain.drop(columns = [\"TEAM\",\"CONF\"]),rytrain) #using the training data"
   ]
  },
  {
   "cell_type": "code",
   "execution_count": 61,
   "id": "7ae754c9",
   "metadata": {},
   "outputs": [
    {
     "name": "stdout",
     "output_type": "stream",
     "text": [
      "Decision Tree Accuracy of Testing Set: 0.4957983193277311\n"
     ]
    }
   ],
   "source": [
    "result_tree_pred = result_tree.predict(rXtest.drop(columns = [\"TEAM\",\"CONF\"])) #predicting values using model\n",
    "\n",
    "print(\"Decision Tree Accuracy of Testing Set: \" + str(accuracy_score(rytest,result_tree_pred))) #test accuracy"
   ]
  },
  {
   "cell_type": "code",
   "execution_count": 62,
   "id": "6dbac2d4",
   "metadata": {},
   "outputs": [
    {
     "data": {
      "image/png": "[encoded data removed]",
      "text/plain": [
       "<Figure size 720x720 with 1 Axes>"
      ]
     },
     "metadata": {
      "needs_background": "light"
     },
     "output_type": "display_data"
    }
   ],
   "source": [
    "plt.figure(figsize=[10,10]) #decision tree #2\n",
    "resultplot = tree.plot_tree(result_tree)"
   ]
  },
  {
   "cell_type": "markdown",
   "id": "5af8fe9a",
   "metadata": {},
   "source": [
    "# 6. K-Nearest Neightbor"
   ]
  },
  {
   "cell_type": "code",
   "execution_count": 63,
   "id": "c11b111a",
   "metadata": {},
   "outputs": [],
   "source": [
    "from sklearn.neighbors import KNeighborsClassifier #K-Nearest Neighbor"
   ]
  },
  {
   "cell_type": "markdown",
   "id": "dd7fa8a4",
   "metadata": {},
   "source": [
    "### 6a. Seed Projections"
   ]
  },
  {
   "cell_type": "code",
   "execution_count": 64,
   "id": "ff41cd14",
   "metadata": {},
   "outputs": [
    {
     "data": {
      "text/plain": [
       "GridSearchCV(cv=3, estimator=KNeighborsClassifier(n_jobs=17),\n",
       "             param_grid={'metric': ['euclidean', 'manhattan', 'minkowski'],\n",
       "                         'n_neighbors': [2, 3, 4, 5]},\n",
       "             return_train_score=True, scoring='accuracy')"
      ]
     },
     "execution_count": 64,
     "metadata": {},
     "output_type": "execute_result"
    }
   ],
   "source": [
    "knn_param = {'n_neighbors': [2, 3, 4, 5], #approximate number of neighbors\n",
    "              'metric': [\"euclidean\", \"manhattan\", \"minkowski\"]}\n",
    "\n",
    "grid_search3 = GridSearchCV(KNeighborsClassifier(n_jobs=17), knn_param, cv=3, \n",
    "                          return_train_score=True, scoring='accuracy') #17 jobs for 17 seeding combinations\n",
    "\n",
    "grid_search3.fit(sXtrain.drop(columns=[\"TEAM\",\"CONF\"]), sytrain) #fitting training data to find parameters"
   ]
  },
  {
   "cell_type": "code",
   "execution_count": 65,
   "id": "ff1394e9",
   "metadata": {},
   "outputs": [
    {
     "name": "stdout",
     "output_type": "stream",
     "text": [
      "Best parameters: {'metric': 'manhattan', 'n_neighbors': 5}\n",
      "Best cross-validation score: 0.8120623905146013\n"
     ]
    }
   ],
   "source": [
    "print(\"Best parameters: \" + str(grid_search3.best_params_)) #best parameters\n",
    "print(\"Best cross-validation score: \" + str(grid_search3.best_score_)) #with best accuracy"
   ]
  },
  {
   "cell_type": "code",
   "execution_count": 66,
   "id": "a074f47d",
   "metadata": {},
   "outputs": [
    {
     "name": "stdout",
     "output_type": "stream",
     "text": [
      "K - Nearest Neighbors Accuracy: 0.8338762214983714\n"
     ]
    }
   ],
   "source": [
    "seedknn = KNeighborsClassifier(**grid_search3.best_params_) #new model with parameters\n",
    "\n",
    "seedknn.fit(sXtrain.drop(columns = [\"TEAM\",\"CONF\"]), sytrain) #fitting the training data\n",
    "seed_knn_pred = seedknn.predict(sXtest.drop(columns = [\"TEAM\",\"CONF\"])) #predicting the testing data\n",
    "print(\"K - Nearest Neighbors Accuracy:\", accuracy_score(sytest,seed_knn_pred)) #accuracy"
   ]
  },
  {
   "cell_type": "markdown",
   "id": "bbc87ca6",
   "metadata": {},
   "source": [
    "### 6b. Result Projections"
   ]
  },
  {
   "cell_type": "code",
   "execution_count": 67,
   "id": "61cd4169",
   "metadata": {},
   "outputs": [
    {
     "data": {
      "text/plain": [
       "GridSearchCV(cv=3, estimator=KNeighborsClassifier(n_jobs=8),\n",
       "             param_grid={'metric': ['euclidean', 'manhattan', 'minkowski'],\n",
       "                         'n_neighbors': [2, 3, 4, 5]},\n",
       "             return_train_score=True, scoring='accuracy')"
      ]
     },
     "execution_count": 67,
     "metadata": {},
     "output_type": "execute_result"
    }
   ],
   "source": [
    "grid_search4 = GridSearchCV(KNeighborsClassifier(n_jobs=8), knn_param, cv=3, #K-means tuning with 8 total possibilities\n",
    "                          return_train_score=True, scoring='accuracy')\n",
    "\n",
    "grid_search4.fit(rXtrain.drop(columns=[\"TEAM\",\"CONF\"]), rytrain) #fitting training data to find parameters"
   ]
  },
  {
   "cell_type": "code",
   "execution_count": 68,
   "id": "5e5d0f74",
   "metadata": {},
   "outputs": [
    {
     "name": "stdout",
     "output_type": "stream",
     "text": [
      "Best parameters: {'metric': 'manhattan', 'n_neighbors': 5}\n",
      "Best cross-validation score: 0.5042016806722689\n"
     ]
    }
   ],
   "source": [
    "print(\"Best parameters: \" + str(grid_search4.best_params_)) #best parameters\n",
    "print(\"Best cross-validation score: \" + str(grid_search4.best_score_)) #with best accuracy"
   ]
  },
  {
   "cell_type": "code",
   "execution_count": 69,
   "id": "6e9dbd5c",
   "metadata": {},
   "outputs": [
    {
     "name": "stdout",
     "output_type": "stream",
     "text": [
      "K - Nearest Neighbors Accuracy: 0.5294117647058824\n"
     ]
    }
   ],
   "source": [
    "resultknn = KNeighborsClassifier(**grid_search4.best_params_) #new model with parameters\n",
    "\n",
    "resultknn.fit(rXtrain.drop(columns = [\"TEAM\",\"CONF\"]), rytrain) #fitting to the training data\n",
    "result_knn_pred = resultknn.predict(rXtest.drop(columns = [\"TEAM\",\"CONF\"])) #test predictions\n",
    "print(\"K - Nearest Neighbors Accuracy:\", accuracy_score(rytest,result_knn_pred)) #accuracy"
   ]
  },
  {
   "cell_type": "markdown",
   "id": "ed38e0a6",
   "metadata": {},
   "source": [
    "# 7. Testing with 2021\n"
   ]
  },
  {
   "cell_type": "code",
   "execution_count": 5,
   "id": "1243b419",
   "metadata": {},
   "outputs": [
    {
     "data": {
      "text/html": [
       "<div>\n",
       "<style scoped>\n",
       "    .dataframe tbody tr th:only-of-type {\n",
       "        vertical-align: middle;\n",
       "    }\n",
       "\n",
       "    .dataframe tbody tr th {\n",
       "        vertical-align: top;\n",
       "    }\n",
       "\n",
       "    .dataframe thead th {\n",
       "        text-align: right;\n",
       "    }\n",
       "</style>\n",
       "<table border=\"1\" class=\"dataframe\">\n",
       "  <thead>\n",
       "    <tr style=\"text-align: right;\">\n",
       "      <th></th>\n",
       "      <th>TEAM</th>\n",
       "      <th>CONF</th>\n",
       "      <th>G</th>\n",
       "      <th>W</th>\n",
       "      <th>ADJOE</th>\n",
       "      <th>ADJDE</th>\n",
       "      <th>BARTHAG</th>\n",
       "      <th>EFG_O</th>\n",
       "      <th>EFG_D</th>\n",
       "      <th>TOR</th>\n",
       "      <th>...</th>\n",
       "      <th>DRB</th>\n",
       "      <th>FTR</th>\n",
       "      <th>FTRD</th>\n",
       "      <th>2P_O</th>\n",
       "      <th>2P_D</th>\n",
       "      <th>3P_O</th>\n",
       "      <th>3P_D</th>\n",
       "      <th>ADJ_T</th>\n",
       "      <th>WAB</th>\n",
       "      <th>SEED</th>\n",
       "    </tr>\n",
       "  </thead>\n",
       "  <tbody>\n",
       "    <tr>\n",
       "      <th>0</th>\n",
       "      <td>Michigan</td>\n",
       "      <td>B10</td>\n",
       "      <td>24</td>\n",
       "      <td>20</td>\n",
       "      <td>118.1</td>\n",
       "      <td>91.1</td>\n",
       "      <td>0.9521</td>\n",
       "      <td>54.9</td>\n",
       "      <td>44.9</td>\n",
       "      <td>16.3</td>\n",
       "      <td>...</td>\n",
       "      <td>24.8</td>\n",
       "      <td>28.9</td>\n",
       "      <td>24.5</td>\n",
       "      <td>53.3</td>\n",
       "      <td>42.3</td>\n",
       "      <td>38.7</td>\n",
       "      <td>33.5</td>\n",
       "      <td>66.9</td>\n",
       "      <td>7.2</td>\n",
       "      <td>1.0</td>\n",
       "    </tr>\n",
       "    <tr>\n",
       "      <th>1</th>\n",
       "      <td>Baylor</td>\n",
       "      <td>B12</td>\n",
       "      <td>24</td>\n",
       "      <td>22</td>\n",
       "      <td>123.2</td>\n",
       "      <td>94.5</td>\n",
       "      <td>0.9548</td>\n",
       "      <td>57.5</td>\n",
       "      <td>49.1</td>\n",
       "      <td>17.6</td>\n",
       "      <td>...</td>\n",
       "      <td>30.9</td>\n",
       "      <td>27.0</td>\n",
       "      <td>31.7</td>\n",
       "      <td>54.1</td>\n",
       "      <td>48.1</td>\n",
       "      <td>41.8</td>\n",
       "      <td>34.0</td>\n",
       "      <td>68.8</td>\n",
       "      <td>6.6</td>\n",
       "      <td>1.0</td>\n",
       "    </tr>\n",
       "    <tr>\n",
       "      <th>2</th>\n",
       "      <td>Illinois</td>\n",
       "      <td>B10</td>\n",
       "      <td>29</td>\n",
       "      <td>23</td>\n",
       "      <td>117.7</td>\n",
       "      <td>90.4</td>\n",
       "      <td>0.9539</td>\n",
       "      <td>55.6</td>\n",
       "      <td>46.6</td>\n",
       "      <td>18.2</td>\n",
       "      <td>...</td>\n",
       "      <td>22.2</td>\n",
       "      <td>39.2</td>\n",
       "      <td>30.5</td>\n",
       "      <td>55.3</td>\n",
       "      <td>45.4</td>\n",
       "      <td>37.6</td>\n",
       "      <td>32.7</td>\n",
       "      <td>70.7</td>\n",
       "      <td>8.9</td>\n",
       "      <td>1.0</td>\n",
       "    </tr>\n",
       "    <tr>\n",
       "      <th>3</th>\n",
       "      <td>Gonzaga</td>\n",
       "      <td>WCC</td>\n",
       "      <td>26</td>\n",
       "      <td>26</td>\n",
       "      <td>125.4</td>\n",
       "      <td>89.8</td>\n",
       "      <td>0.9791</td>\n",
       "      <td>61.0</td>\n",
       "      <td>47.5</td>\n",
       "      <td>16.1</td>\n",
       "      <td>...</td>\n",
       "      <td>23.4</td>\n",
       "      <td>36.7</td>\n",
       "      <td>25.9</td>\n",
       "      <td>64.0</td>\n",
       "      <td>46.8</td>\n",
       "      <td>36.5</td>\n",
       "      <td>32.5</td>\n",
       "      <td>74.6</td>\n",
       "      <td>8.5</td>\n",
       "      <td>1.0</td>\n",
       "    </tr>\n",
       "    <tr>\n",
       "      <th>4</th>\n",
       "      <td>Iowa</td>\n",
       "      <td>B10</td>\n",
       "      <td>29</td>\n",
       "      <td>21</td>\n",
       "      <td>123.5</td>\n",
       "      <td>95.7</td>\n",
       "      <td>0.9491</td>\n",
       "      <td>54.6</td>\n",
       "      <td>48.3</td>\n",
       "      <td>13.3</td>\n",
       "      <td>...</td>\n",
       "      <td>28.6</td>\n",
       "      <td>32.0</td>\n",
       "      <td>22.6</td>\n",
       "      <td>52.4</td>\n",
       "      <td>45.8</td>\n",
       "      <td>38.6</td>\n",
       "      <td>34.8</td>\n",
       "      <td>70.0</td>\n",
       "      <td>5.6</td>\n",
       "      <td>2.0</td>\n",
       "    </tr>\n",
       "  </tbody>\n",
       "</table>\n",
       "<p>5 rows × 22 columns</p>\n",
       "</div>"
      ],
      "text/plain": [
       "       TEAM CONF   G   W  ADJOE  ADJDE  BARTHAG  EFG_O  EFG_D   TOR  ...  \\\n",
       "0  Michigan  B10  24  20  118.1   91.1   0.9521   54.9   44.9  16.3  ...   \n",
       "1    Baylor  B12  24  22  123.2   94.5   0.9548   57.5   49.1  17.6  ...   \n",
       "2  Illinois  B10  29  23  117.7   90.4   0.9539   55.6   46.6  18.2  ...   \n",
       "3   Gonzaga  WCC  26  26  125.4   89.8   0.9791   61.0   47.5  16.1  ...   \n",
       "4      Iowa  B10  29  21  123.5   95.7   0.9491   54.6   48.3  13.3  ...   \n",
       "\n",
       "    DRB   FTR  FTRD  2P_O  2P_D  3P_O  3P_D  ADJ_T  WAB  SEED  \n",
       "0  24.8  28.9  24.5  53.3  42.3  38.7  33.5   66.9  7.2   1.0  \n",
       "1  30.9  27.0  31.7  54.1  48.1  41.8  34.0   68.8  6.6   1.0  \n",
       "2  22.2  39.2  30.5  55.3  45.4  37.6  32.7   70.7  8.9   1.0  \n",
       "3  23.4  36.7  25.9  64.0  46.8  36.5  32.5   74.6  8.5   1.0  \n",
       "4  28.6  32.0  22.6  52.4  45.8  38.6  34.8   70.0  5.6   2.0  \n",
       "\n",
       "[5 rows x 22 columns]"
      ]
     },
     "execution_count": 5,
     "metadata": {},
     "output_type": "execute_result"
    }
   ],
   "source": [
    "lydata = pd.read_csv(\"https://github.com/kharmer9/IST652_Final/raw/main/cbbdata.csv\") #2021 data without tournament results\n",
    "lydata.head() #Last Year's Data"
   ]
  },
  {
   "cell_type": "code",
   "execution_count": 71,
   "id": "758b0211",
   "metadata": {},
   "outputs": [
    {
     "name": "stderr",
     "output_type": "stream",
     "text": [
      "C:\\Users\\kharm\\AppData\\Local\\Temp/ipykernel_11156/3392497643.py:5: SettingWithCopyWarning: \n",
      "A value is trying to be set on a copy of a slice from a DataFrame\n",
      "\n",
      "See the caveats in the documentation: https://pandas.pydata.org/pandas-docs/stable/user_guide/indexing.html#returning-a-view-versus-a-copy\n",
      "  SEEDSCORE2[lydata[\"SEED\"].isna()] = 17\n",
      "C:\\Users\\kharm\\AppData\\Local\\Temp/ipykernel_11156/3392497643.py:9: SettingWithCopyWarning: \n",
      "A value is trying to be set on a copy of a slice from a DataFrame\n",
      "\n",
      "See the caveats in the documentation: https://pandas.pydata.org/pandas-docs/stable/user_guide/indexing.html#returning-a-view-versus-a-copy\n",
      "  newdata[\"SEED\"][lydata[\"SEED\"].isna()] = \"NTA\"\n"
     ]
    }
   ],
   "source": [
    "newdata = lydata\n",
    "\n",
    "#same seedscore process\n",
    "SEEDSCORE2 = lydata[\"SEED\"]\n",
    "SEEDSCORE2[lydata[\"SEED\"].isna()] = 17\n",
    "SEEDSCORE2 = SEEDSCORE2.to_numpy().astype(float)\n",
    "newdata[\"SEEDSCORE\"] = 17 - SEEDSCORE2 #seeting seedscore in new data\n",
    "\n",
    "newdata[\"SEED\"][lydata[\"SEED\"].isna()] = \"NTA\""
   ]
  },
  {
   "cell_type": "code",
   "execution_count": 135,
   "id": "6efd8862",
   "metadata": {},
   "outputs": [
    {
     "data": {
      "text/html": [
       "<div>\n",
       "<style scoped>\n",
       "    .dataframe tbody tr th:only-of-type {\n",
       "        vertical-align: middle;\n",
       "    }\n",
       "\n",
       "    .dataframe tbody tr th {\n",
       "        vertical-align: top;\n",
       "    }\n",
       "\n",
       "    .dataframe thead th {\n",
       "        text-align: right;\n",
       "    }\n",
       "</style>\n",
       "<table border=\"1\" class=\"dataframe\">\n",
       "  <thead>\n",
       "    <tr style=\"text-align: right;\">\n",
       "      <th></th>\n",
       "      <th>G</th>\n",
       "      <th>W</th>\n",
       "      <th>ADJOE</th>\n",
       "      <th>ADJDE</th>\n",
       "      <th>BARTHAG</th>\n",
       "      <th>DRB</th>\n",
       "      <th>WAB</th>\n",
       "      <th>SEEDSCORE</th>\n",
       "    </tr>\n",
       "  </thead>\n",
       "  <tbody>\n",
       "    <tr>\n",
       "      <th>0</th>\n",
       "      <td>24</td>\n",
       "      <td>20</td>\n",
       "      <td>118.1</td>\n",
       "      <td>91.1</td>\n",
       "      <td>0.9521</td>\n",
       "      <td>24.8</td>\n",
       "      <td>7.2</td>\n",
       "      <td>16.0</td>\n",
       "    </tr>\n",
       "    <tr>\n",
       "      <th>1</th>\n",
       "      <td>24</td>\n",
       "      <td>22</td>\n",
       "      <td>123.2</td>\n",
       "      <td>94.5</td>\n",
       "      <td>0.9548</td>\n",
       "      <td>30.9</td>\n",
       "      <td>6.6</td>\n",
       "      <td>16.0</td>\n",
       "    </tr>\n",
       "    <tr>\n",
       "      <th>2</th>\n",
       "      <td>29</td>\n",
       "      <td>23</td>\n",
       "      <td>117.7</td>\n",
       "      <td>90.4</td>\n",
       "      <td>0.9539</td>\n",
       "      <td>22.2</td>\n",
       "      <td>8.9</td>\n",
       "      <td>16.0</td>\n",
       "    </tr>\n",
       "    <tr>\n",
       "      <th>3</th>\n",
       "      <td>26</td>\n",
       "      <td>26</td>\n",
       "      <td>125.4</td>\n",
       "      <td>89.8</td>\n",
       "      <td>0.9791</td>\n",
       "      <td>23.4</td>\n",
       "      <td>8.5</td>\n",
       "      <td>16.0</td>\n",
       "    </tr>\n",
       "    <tr>\n",
       "      <th>4</th>\n",
       "      <td>29</td>\n",
       "      <td>21</td>\n",
       "      <td>123.5</td>\n",
       "      <td>95.7</td>\n",
       "      <td>0.9491</td>\n",
       "      <td>28.6</td>\n",
       "      <td>5.6</td>\n",
       "      <td>15.0</td>\n",
       "    </tr>\n",
       "  </tbody>\n",
       "</table>\n",
       "</div>"
      ],
      "text/plain": [
       "    G   W  ADJOE  ADJDE  BARTHAG   DRB  WAB  SEEDSCORE\n",
       "0  24  20  118.1   91.1   0.9521  24.8  7.2       16.0\n",
       "1  24  22  123.2   94.5   0.9548  30.9  6.6       16.0\n",
       "2  29  23  117.7   90.4   0.9539  22.2  8.9       16.0\n",
       "3  26  26  125.4   89.8   0.9791  23.4  8.5       16.0\n",
       "4  29  21  123.5   95.7   0.9491  28.6  5.6       15.0"
      ]
     },
     "execution_count": 135,
     "metadata": {},
     "output_type": "execute_result"
    }
   ],
   "source": [
    "newseedX = newdata.drop(columns = [\"TEAM\",\"CONF\",\"EFG_D\",\"TORD\",\"DRB\",\"FTRD\",\"2P_O\",\"2P_D\",\"3P_O\",\"3P_D\",\"ADJ_T\",\"SEED\",\"SEEDSCORE\"]) #get prediction values for last years tournament seeding\n",
    "newresultX = newdata.drop(columns = [\"TEAM\",\"CONF\",\"EFG_O\",\"EFG_D\",\"TOR\",\"TORD\",\"ORB\",\"FTR\",\"FTRD\",\"2P_O\",\"2P_D\",\"3P_O\",\"3P_D\",\"ADJ_T\",\"SEED\"]) #prediction values for last years results\n",
    "for a in range(newdata.shape[0]):\n",
    "    if newresultX[\"SEEDSCORE\"][a] == 0:\n",
    "        newresultX = newresultX.drop(a) #dropping all teams that did not make the tournament from the results data set\n",
    "newseedX.head()\n",
    "newresultX.head()"
   ]
  },
  {
   "cell_type": "code",
   "execution_count": 73,
   "id": "73d2d1c8",
   "metadata": {},
   "outputs": [
    {
     "name": "stdout",
     "output_type": "stream",
     "text": [
      "SVM Accuracy for Last Year's Seeding: 0.8097982708933718\n"
     ]
    }
   ],
   "source": [
    "#svm\n",
    "newseedX_scale = sScale.transform(newseedX) #scaling data for svm\n",
    "new_seed_svm_pred = svmseed.predict(newseedX_scale)\n",
    "print(\"SVM Accuracy for Last Year's Seeding:\", accuracy_score(newdata[\"SEEDSCORE\"],new_seed_svm_pred)) #last years svm accuracy\n",
    "\n",
    "newresultX_scale = rScale.transform(newresultX)\n",
    "new_result_svm_pred = svmresult.predict(newresultX_scale) #no accuracy because tournament results are not imported"
   ]
  },
  {
   "cell_type": "code",
   "execution_count": 74,
   "id": "e77299a6",
   "metadata": {},
   "outputs": [
    {
     "name": "stdout",
     "output_type": "stream",
     "text": [
      "Decision Tree Accuracy of Last Year's Seeding: 0.829971181556196\n"
     ]
    }
   ],
   "source": [
    "#Decision Tree Classifier\n",
    "new_seed_tree_pred = seed_tree.predict(newseedX)\n",
    "print(\"Decision Tree Accuracy of Last Year's Seeding: \" + str(accuracy_score(newdata[\"SEEDSCORE\"],new_seed_tree_pred))) #test accuracy\n",
    "\n",
    "new_result_tree_pred = result_tree.predict(newresultX)"
   ]
  },
  {
   "cell_type": "code",
   "execution_count": 75,
   "id": "587e42be",
   "metadata": {},
   "outputs": [
    {
     "name": "stdout",
     "output_type": "stream",
     "text": [
      "K - Nearest Neighbors Accuracy of Last Year's Seeding: 0.8069164265129684\n"
     ]
    }
   ],
   "source": [
    "#K-Nearest Neighbors\n",
    "new_seed_knn_pred = seedknn.predict(newseedX)\n",
    "print(\"K - Nearest Neighbors Accuracy of Last Year's Seeding:\", accuracy_score(newdata[\"SEEDSCORE\"],new_seed_knn_pred)) #accuracy\n",
    "\n",
    "new_result_knn_pred = resultknn.predict(newresultX)"
   ]
  },
  {
   "cell_type": "markdown",
   "id": "76301800",
   "metadata": {},
   "source": [
    "To put into perspective, take the final four teams from 2021: Baylor (1), Gonzaga (3), UCLA (43), and Houston (6). Look at their results:"
   ]
  },
  {
   "cell_type": "code",
   "execution_count": 76,
   "id": "9d4a97af",
   "metadata": {},
   "outputs": [
    {
     "data": {
      "text/html": [
       "<div>\n",
       "<style scoped>\n",
       "    .dataframe tbody tr th:only-of-type {\n",
       "        vertical-align: middle;\n",
       "    }\n",
       "\n",
       "    .dataframe tbody tr th {\n",
       "        vertical-align: top;\n",
       "    }\n",
       "\n",
       "    .dataframe thead th {\n",
       "        text-align: right;\n",
       "    }\n",
       "</style>\n",
       "<table border=\"1\" class=\"dataframe\">\n",
       "  <thead>\n",
       "    <tr style=\"text-align: right;\">\n",
       "      <th></th>\n",
       "      <th>TEAM</th>\n",
       "      <th>CONF</th>\n",
       "      <th>G</th>\n",
       "      <th>W</th>\n",
       "      <th>ADJOE</th>\n",
       "      <th>ADJDE</th>\n",
       "      <th>BARTHAG</th>\n",
       "      <th>EFG_O</th>\n",
       "      <th>EFG_D</th>\n",
       "      <th>TOR</th>\n",
       "      <th>...</th>\n",
       "      <th>FTR</th>\n",
       "      <th>FTRD</th>\n",
       "      <th>2P_O</th>\n",
       "      <th>2P_D</th>\n",
       "      <th>3P_O</th>\n",
       "      <th>3P_D</th>\n",
       "      <th>ADJ_T</th>\n",
       "      <th>WAB</th>\n",
       "      <th>SEED</th>\n",
       "      <th>SEEDSCORE</th>\n",
       "    </tr>\n",
       "  </thead>\n",
       "  <tbody>\n",
       "    <tr>\n",
       "      <th>1</th>\n",
       "      <td>Baylor</td>\n",
       "      <td>B12</td>\n",
       "      <td>24</td>\n",
       "      <td>22</td>\n",
       "      <td>123.2</td>\n",
       "      <td>94.5</td>\n",
       "      <td>0.9548</td>\n",
       "      <td>57.5</td>\n",
       "      <td>49.1</td>\n",
       "      <td>17.6</td>\n",
       "      <td>...</td>\n",
       "      <td>27.0</td>\n",
       "      <td>31.7</td>\n",
       "      <td>54.1</td>\n",
       "      <td>48.1</td>\n",
       "      <td>41.8</td>\n",
       "      <td>34.0</td>\n",
       "      <td>68.8</td>\n",
       "      <td>6.6</td>\n",
       "      <td>1.0</td>\n",
       "      <td>16.0</td>\n",
       "    </tr>\n",
       "    <tr>\n",
       "      <th>3</th>\n",
       "      <td>Gonzaga</td>\n",
       "      <td>WCC</td>\n",
       "      <td>26</td>\n",
       "      <td>26</td>\n",
       "      <td>125.4</td>\n",
       "      <td>89.8</td>\n",
       "      <td>0.9791</td>\n",
       "      <td>61.0</td>\n",
       "      <td>47.5</td>\n",
       "      <td>16.1</td>\n",
       "      <td>...</td>\n",
       "      <td>36.7</td>\n",
       "      <td>25.9</td>\n",
       "      <td>64.0</td>\n",
       "      <td>46.8</td>\n",
       "      <td>36.5</td>\n",
       "      <td>32.5</td>\n",
       "      <td>74.6</td>\n",
       "      <td>8.5</td>\n",
       "      <td>1.0</td>\n",
       "      <td>16.0</td>\n",
       "    </tr>\n",
       "    <tr>\n",
       "      <th>6</th>\n",
       "      <td>Houston</td>\n",
       "      <td>Amer</td>\n",
       "      <td>26</td>\n",
       "      <td>24</td>\n",
       "      <td>120.6</td>\n",
       "      <td>90.9</td>\n",
       "      <td>0.9626</td>\n",
       "      <td>51.3</td>\n",
       "      <td>42.9</td>\n",
       "      <td>16.3</td>\n",
       "      <td>...</td>\n",
       "      <td>30.7</td>\n",
       "      <td>42.4</td>\n",
       "      <td>49.9</td>\n",
       "      <td>43.0</td>\n",
       "      <td>35.5</td>\n",
       "      <td>28.5</td>\n",
       "      <td>65.0</td>\n",
       "      <td>4.0</td>\n",
       "      <td>2.0</td>\n",
       "      <td>15.0</td>\n",
       "    </tr>\n",
       "    <tr>\n",
       "      <th>43</th>\n",
       "      <td>UCLA</td>\n",
       "      <td>P12</td>\n",
       "      <td>26</td>\n",
       "      <td>17</td>\n",
       "      <td>112.3</td>\n",
       "      <td>97.5</td>\n",
       "      <td>0.8350</td>\n",
       "      <td>52.0</td>\n",
       "      <td>50.7</td>\n",
       "      <td>16.6</td>\n",
       "      <td>...</td>\n",
       "      <td>32.6</td>\n",
       "      <td>28.0</td>\n",
       "      <td>50.6</td>\n",
       "      <td>49.4</td>\n",
       "      <td>36.7</td>\n",
       "      <td>35.1</td>\n",
       "      <td>64.7</td>\n",
       "      <td>1.0</td>\n",
       "      <td>11.0</td>\n",
       "      <td>6.0</td>\n",
       "    </tr>\n",
       "  </tbody>\n",
       "</table>\n",
       "<p>4 rows × 23 columns</p>\n",
       "</div>"
      ],
      "text/plain": [
       "       TEAM  CONF   G   W  ADJOE  ADJDE  BARTHAG  EFG_O  EFG_D   TOR  ...  \\\n",
       "1    Baylor   B12  24  22  123.2   94.5   0.9548   57.5   49.1  17.6  ...   \n",
       "3   Gonzaga   WCC  26  26  125.4   89.8   0.9791   61.0   47.5  16.1  ...   \n",
       "6   Houston  Amer  26  24  120.6   90.9   0.9626   51.3   42.9  16.3  ...   \n",
       "43     UCLA   P12  26  17  112.3   97.5   0.8350   52.0   50.7  16.6  ...   \n",
       "\n",
       "     FTR  FTRD  2P_O  2P_D  3P_O  3P_D  ADJ_T  WAB  SEED  SEEDSCORE  \n",
       "1   27.0  31.7  54.1  48.1  41.8  34.0   68.8  6.6   1.0       16.0  \n",
       "3   36.7  25.9  64.0  46.8  36.5  32.5   74.6  8.5   1.0       16.0  \n",
       "6   30.7  42.4  49.9  43.0  35.5  28.5   65.0  4.0   2.0       15.0  \n",
       "43  32.6  28.0  50.6  49.4  36.7  35.1   64.7  1.0  11.0        6.0  \n",
       "\n",
       "[4 rows x 23 columns]"
      ]
     },
     "execution_count": 76,
     "metadata": {},
     "output_type": "execute_result"
    }
   ],
   "source": [
    "newdata.iloc[[1,3,6,43]] #1: Baylor, 3: Gonzaga, 6: Houston, 43: UCLA (final four teams)"
   ]
  },
  {
   "cell_type": "code",
   "execution_count": 77,
   "id": "25e35c98",
   "metadata": {},
   "outputs": [
    {
     "name": "stdout",
     "output_type": "stream",
     "text": [
      "Baylor's Stats\n",
      "SVM Projected Seed: 2.0\n",
      "Decision Tree Projected Seed: 1.0\n",
      "K - Nearest Neighbnor Projected Seed: 1.0\n",
      "SVM Projected Result: R64\n",
      "Decision Tree Projected Result: R32\n",
      "K - Nearest Neighbnor Projected Result: R32\n"
     ]
    }
   ],
   "source": [
    "print(\"Baylor's Stats\")\n",
    "print(\"SVM Projected Seed: \" + str(17-new_seed_svm_pred[1]))\n",
    "print(\"Decision Tree Projected Seed: \" + str(17-new_seed_tree_pred[1]))\n",
    "print(\"K - Nearest Neighbnor Projected Seed: \" + str(17-new_seed_tree_pred[1]))\n",
    "print(\"SVM Projected Result: \" + str(new_result_svm_pred[1]))\n",
    "print(\"Decision Tree Projected Result: \" + str(new_result_tree_pred[1]))\n",
    "print(\"K - Nearest Neighbnor Projected Result: \" + str(new_result_tree_pred[1]))"
   ]
  },
  {
   "cell_type": "code",
   "execution_count": 78,
   "id": "9393ee17",
   "metadata": {},
   "outputs": [
    {
     "name": "stdout",
     "output_type": "stream",
     "text": [
      "Gonzaga's Stats\n",
      "SVM Projected Seed: 3.0\n",
      "Decision Tree Projected Seed: 1.0\n",
      "K - Nearest Neighbnor Projected Seed: 1.0\n",
      "SVM Projected Result: R64\n",
      "Decision Tree Projected Result: R64\n",
      "K - Nearest Neighbnor Projected Result: R64\n"
     ]
    }
   ],
   "source": [
    "print(\"Gonzaga's Stats\")\n",
    "print(\"SVM Projected Seed: \" + str(17-new_seed_svm_pred[3]))\n",
    "print(\"Decision Tree Projected Seed: \" + str(17-new_seed_tree_pred[3]))\n",
    "print(\"K - Nearest Neighbnor Projected Seed: \" + str(17-new_seed_tree_pred[3]))\n",
    "print(\"SVM Projected Result: \" + str(new_result_svm_pred[3]))\n",
    "print(\"Decision Tree Projected Result: \" + str(new_result_tree_pred[3]))\n",
    "print(\"K - Nearest Neighbnor Projected Result: \" + str(new_result_tree_pred[3]))"
   ]
  },
  {
   "cell_type": "code",
   "execution_count": 79,
   "id": "b47c636a",
   "metadata": {},
   "outputs": [
    {
     "name": "stdout",
     "output_type": "stream",
     "text": [
      "Houston's Stats\n",
      "SVM Projected Seed: 5.0\n",
      "Decision Tree Projected Seed: 5.0\n",
      "K - Nearest Neighbnor Projected Seed: 5.0\n",
      "SVM Projected Result: R64\n",
      "Decision Tree Projected Result: R64\n",
      "K - Nearest Neighbnor Projected Result: R64\n"
     ]
    }
   ],
   "source": [
    "print(\"Houston's Stats\")\n",
    "print(\"SVM Projected Seed: \" + str(17-new_seed_svm_pred[6]))\n",
    "print(\"Decision Tree Projected Seed: \" + str(17-new_seed_tree_pred[6]))\n",
    "print(\"K - Nearest Neighbnor Projected Seed: \" + str(17-new_seed_tree_pred[6]))\n",
    "print(\"SVM Projected Result: \" + str(new_result_svm_pred[6]))\n",
    "print(\"Decision Tree Projected Result: \" + str(new_result_tree_pred[6]))\n",
    "print(\"K - Nearest Neighbnor Projected Result: \" + str(new_result_tree_pred[6]))"
   ]
  },
  {
   "cell_type": "code",
   "execution_count": 80,
   "id": "0d2a7882",
   "metadata": {},
   "outputs": [
    {
     "name": "stdout",
     "output_type": "stream",
     "text": [
      "UCLA's Stats\n",
      "SVM Projected Seed: 10.0\n",
      "Decision Tree Projected Seed: 10.0\n",
      "K - Nearest Neighbnor Projected Seed: 10.0\n",
      "SVM Projected Result: R64\n",
      "Decision Tree Projected Result: R68\n",
      "K - Nearest Neighbnor Projected Result: R68\n"
     ]
    }
   ],
   "source": [
    "print(\"UCLA's Stats\")\n",
    "print(\"SVM Projected Seed: \" + str(17-new_seed_svm_pred[43]))\n",
    "print(\"Decision Tree Projected Seed: \" + str(17-new_seed_tree_pred[43]))\n",
    "print(\"K - Nearest Neighbnor Projected Seed: \" + str(17-new_seed_tree_pred[43]))\n",
    "print(\"SVM Projected Result: \" + str(new_result_svm_pred[43]))\n",
    "print(\"Decision Tree Projected Result: \" + str(new_result_tree_pred[43]))\n",
    "print(\"K - Nearest Neighbnor Projected Result: \" + str(new_result_tree_pred[43]))"
   ]
  },
  {
   "cell_type": "markdown",
   "id": "338a83a7",
   "metadata": {},
   "source": [
    "# 8. Empirical Solution to Tournament Results"
   ]
  },
  {
   "cell_type": "code",
   "execution_count": 81,
   "id": "6a2e5877",
   "metadata": {},
   "outputs": [],
   "source": [
    "#defining total games before loss\n",
    "TGBL = []\n",
    "for a in range(len(data[\"POSTSEASON\"])):\n",
    "    if data[\"POSTSEASON\"][a] == \"Champions\":\n",
    "        TGBL.append(7.0) #7 games before loss\n",
    "    elif data[\"POSTSEASON\"][a] == \"R68\":\n",
    "        TGBL.append(0.5) #half a game before loss\n",
    "    elif data[\"POSTSEASON\"][a] == \"R64\":\n",
    "        TGBL.append(1.0) #1 game before loss\n",
    "    elif data[\"POSTSEASON\"][a] == \"R32\":\n",
    "        TGBL.append(2.0) #2 games before loss\n",
    "    elif data[\"POSTSEASON\"][a] == \"S16\":\n",
    "        TGBL.append(3.0) #3 games before loss\n",
    "    elif data[\"POSTSEASON\"][a] == \"E8\":\n",
    "        TGBL.append(4.0) #4 games before loss\n",
    "    elif data[\"POSTSEASON\"][a] == \"F4\":\n",
    "        TGBL.append(5.0) #5 games before loss\n",
    "    elif data[\"POSTSEASON\"][a] == \"2ND\":\n",
    "        TGBL.append(6.0) #6 games before loss\n",
    "    else:\n",
    "        continue #cycling through teams that did not make tournament\n",
    "TGBLdata = np.array(TGBL)"
   ]
  },
  {
   "cell_type": "code",
   "execution_count": 82,
   "id": "b67b8073",
   "metadata": {},
   "outputs": [
    {
     "data": {
      "text/html": [
       "<div>\n",
       "<style scoped>\n",
       "    .dataframe tbody tr th:only-of-type {\n",
       "        vertical-align: middle;\n",
       "    }\n",
       "\n",
       "    .dataframe tbody tr th {\n",
       "        vertical-align: top;\n",
       "    }\n",
       "\n",
       "    .dataframe thead th {\n",
       "        text-align: right;\n",
       "    }\n",
       "</style>\n",
       "<table border=\"1\" class=\"dataframe\">\n",
       "  <thead>\n",
       "    <tr style=\"text-align: right;\">\n",
       "      <th></th>\n",
       "      <th>G</th>\n",
       "      <th>W</th>\n",
       "      <th>ADJOE</th>\n",
       "      <th>ADJDE</th>\n",
       "      <th>BARTHAG</th>\n",
       "      <th>DRB</th>\n",
       "      <th>WAB</th>\n",
       "      <th>SEEDSCORE</th>\n",
       "    </tr>\n",
       "    <tr>\n",
       "      <th>YEARTEAM</th>\n",
       "      <th></th>\n",
       "      <th></th>\n",
       "      <th></th>\n",
       "      <th></th>\n",
       "      <th></th>\n",
       "      <th></th>\n",
       "      <th></th>\n",
       "      <th></th>\n",
       "    </tr>\n",
       "  </thead>\n",
       "  <tbody>\n",
       "    <tr>\n",
       "      <th>2016 North Carolina</th>\n",
       "      <td>40</td>\n",
       "      <td>33</td>\n",
       "      <td>123.3</td>\n",
       "      <td>94.9</td>\n",
       "      <td>0.9531</td>\n",
       "      <td>30.0</td>\n",
       "      <td>8.6</td>\n",
       "      <td>16.0</td>\n",
       "    </tr>\n",
       "    <tr>\n",
       "      <th>2015 Wisconsin</th>\n",
       "      <td>40</td>\n",
       "      <td>36</td>\n",
       "      <td>129.1</td>\n",
       "      <td>93.6</td>\n",
       "      <td>0.9758</td>\n",
       "      <td>23.7</td>\n",
       "      <td>11.3</td>\n",
       "      <td>16.0</td>\n",
       "    </tr>\n",
       "    <tr>\n",
       "      <th>2018 Michigan</th>\n",
       "      <td>40</td>\n",
       "      <td>33</td>\n",
       "      <td>114.4</td>\n",
       "      <td>90.4</td>\n",
       "      <td>0.9375</td>\n",
       "      <td>24.9</td>\n",
       "      <td>6.9</td>\n",
       "      <td>14.0</td>\n",
       "    </tr>\n",
       "    <tr>\n",
       "      <th>2019 Texas Tech</th>\n",
       "      <td>38</td>\n",
       "      <td>31</td>\n",
       "      <td>115.2</td>\n",
       "      <td>85.2</td>\n",
       "      <td>0.9696</td>\n",
       "      <td>28.7</td>\n",
       "      <td>7.0</td>\n",
       "      <td>14.0</td>\n",
       "    </tr>\n",
       "    <tr>\n",
       "      <th>2017 Gonzaga</th>\n",
       "      <td>39</td>\n",
       "      <td>37</td>\n",
       "      <td>117.8</td>\n",
       "      <td>86.3</td>\n",
       "      <td>0.9728</td>\n",
       "      <td>26.2</td>\n",
       "      <td>7.7</td>\n",
       "      <td>16.0</td>\n",
       "    </tr>\n",
       "  </tbody>\n",
       "</table>\n",
       "</div>"
      ],
      "text/plain": [
       "                      G   W  ADJOE  ADJDE  BARTHAG   DRB   WAB  SEEDSCORE\n",
       "YEARTEAM                                                                 \n",
       "2016 North Carolina  40  33  123.3   94.9   0.9531  30.0   8.6       16.0\n",
       "2015 Wisconsin       40  36  129.1   93.6   0.9758  23.7  11.3       16.0\n",
       "2018 Michigan        40  33  114.4   90.4   0.9375  24.9   6.9       14.0\n",
       "2019 Texas Tech      38  31  115.2   85.2   0.9696  28.7   7.0       14.0\n",
       "2017 Gonzaga         39  37  117.8   86.3   0.9728  26.2   7.7       16.0"
      ]
     },
     "execution_count": 82,
     "metadata": {},
     "output_type": "execute_result"
    }
   ],
   "source": [
    "empresultX = resultX.drop(columns = [\"TEAM\", \"CONF\"])\n",
    "empresultX.head()"
   ]
  },
  {
   "cell_type": "code",
   "execution_count": 83,
   "id": "4962f345",
   "metadata": {},
   "outputs": [
    {
     "data": {
      "text/plain": [
       "((476, 8), 476)"
      ]
     },
     "execution_count": 83,
     "metadata": {},
     "output_type": "execute_result"
    }
   ],
   "source": [
    "empresultX.shape, len(TGBLdata)"
   ]
  },
  {
   "cell_type": "code",
   "execution_count": 136,
   "id": "91615b97",
   "metadata": {},
   "outputs": [
    {
     "data": {
      "image/png": "[encoded data removed]",
      "text/plain": [
       "<Figure size 432x288 with 1 Axes>"
      ]
     },
     "metadata": {
      "needs_background": "light"
     },
     "output_type": "display_data"
    },
    {
     "data": {
      "image/png": "[encoded data removed]",
      "text/plain": [
       "<Figure size 432x288 with 1 Axes>"
      ]
     },
     "metadata": {
      "needs_background": "light"
     },
     "output_type": "display_data"
    },
    {
     "data": {
      "image/png": "[encoded data removed]",
      "text/plain": [
       "<Figure size 432x288 with 1 Axes>"
      ]
     },
     "metadata": {
      "needs_background": "light"
     },
     "output_type": "display_data"
    },
    {
     "data": {
      "image/png": "[encoded data removed]",
      "text/plain": [
       "<Figure size 432x288 with 1 Axes>"
      ]
     },
     "metadata": {
      "needs_background": "light"
     },
     "output_type": "display_data"
    },
    {
     "data": {
      "image/png": "[encoded data removed]",
      "text/plain": [
       "<Figure size 432x288 with 1 Axes>"
      ]
     },
     "metadata": {
      "needs_background": "light"
     },
     "output_type": "display_data"
    },
    {
     "data": {
      "image/png": "[encoded data removed]",
      "text/plain": [
       "<Figure size 432x288 with 1 Axes>"
      ]
     },
     "metadata": {
      "needs_background": "light"
     },
     "output_type": "display_data"
    },
    {
     "data": {
      "image/png": "[encoded data removed]",
      "text/plain": [
       "<Figure size 432x288 with 1 Axes>"
      ]
     },
     "metadata": {
      "needs_background": "light"
     },
     "output_type": "display_data"
    },
    {
     "data": {
      "image/png": "[encoded data removed]",
      "text/plain": [
       "<Figure size 432x288 with 1 Axes>"
      ]
     },
     "metadata": {
      "needs_background": "light"
     },
     "output_type": "display_data"
    }
   ],
   "source": [
    "# plotting a scatter plot for each variable with TGBL\n",
    "for a in empresultX.columns:\n",
    "    plt.figure()\n",
    "    plt.title(a)\n",
    "    plt.ylabel(\"TGBL\")\n",
    "    plt.xlabel(a)\n",
    "    plt.scatter(empresultX[a], TGBLdata)\n",
    "#DRB shows no valuable information, meaning it will not be used"
   ]
  },
  {
   "cell_type": "code",
   "execution_count": 98,
   "id": "566237ce",
   "metadata": {},
   "outputs": [],
   "source": [
    "def invfun(X, #input variables\n",
    "           b1, b2, b3, b4, b5, b6, b7, #fitted amplitudes\n",
    "           x1, x2, x3, x4, x5, x6, x7): #horizontal shifts \n",
    "    \n",
    "    #assigning independent variables\n",
    "    G = X[\"G\"].to_numpy()\n",
    "    W = X[\"W\"].to_numpy()\n",
    "    ADJOE = X[\"ADJOE\"].to_numpy()\n",
    "    ADJDE = X[\"ADJDE\"].to_numpy()\n",
    "    BARTHAG = X[\"BARTHAG\"].to_numpy()\n",
    "    WAB = X[\"WAB\"].to_numpy()\n",
    "    SEEDSCORE = X[\"SEEDSCORE\"].to_numpy()\n",
    "    #DRB did not show good correlation, so not included\n",
    "    \n",
    "    Gterm = -b1/(G-max(G)-1-x1) #inverse function found in scatter plot; b1 should be positive\n",
    "    Wterm = -b2/(W-max(W)-1-x2) #inverse function found in scatter plot; b2 should be positive\n",
    "    ADJOEterm = -b3/(ADJOE-max(ADJOE)-1-x3) #rough inverse function; b3 should be positive\n",
    "    ADJDEterm = b4/(ADJDE-min(ADJDE)+1+x4) #rough inverse function; b4 should be positive\n",
    "    BARTHAGterm = -b5/(BARTHAG-max(BARTHAG)-0.01-x5) #inverse function; b5 should be positive\n",
    "    WABterm = -b6/(WAB-max(WAB)-0.25-x6) #inverse function; b6 should be positive\n",
    "    SEEDSCOREterm = -b7/(SEEDSCORE-0.5-x7) #rough inverse function; b7 should be positive\n",
    "    result = Gterm + Wterm + ADJOEterm + ADJDEterm + BARTHAGterm + WABterm + SEEDSCOREterm\n",
    "    return(result)\n",
    "\n",
    "def expfun(X, #input variables\n",
    "           a1, a2, a3, a4, a5, a6, a7, #fitted amplitudes\n",
    "           b1, b2, b3, b4, b5, b6, b7, #exponential scales\n",
    "           x1, x2, x3, x4, x5, x6, x7): #horizontal shifts \n",
    "    \n",
    "    #assigning independent variables\n",
    "    G = X[\"G\"].to_numpy()\n",
    "    W = X[\"W\"].to_numpy()\n",
    "    ADJOE = X[\"ADJOE\"].to_numpy()\n",
    "    ADJDE = X[\"ADJDE\"].to_numpy()\n",
    "    BARTHAG = X[\"BARTHAG\"].to_numpy()\n",
    "    WAB = X[\"WAB\"].to_numpy()\n",
    "    SEEDSCORE = X[\"SEEDSCORE\"].to_numpy()\n",
    "    #DRB did not show good correlation, so not included\n",
    "    \n",
    "    Gterm = a1*np.exp(b1*(G-max(G)-x1)) #inverse function found in scatter plot; b1 should be positive\n",
    "    Wterm = a2*np.exp(b2*(W-max(W)-x2)) #inverse function found in scatter plot; b2 should be positive\n",
    "    ADJOEterm = a3*np.exp(b3*(ADJOE-max(ADJOE)-x3)) #rough inverse function; b3 should be positive\n",
    "    ADJDEterm = a4*np.exp(-b4*(ADJDE-max(ADJDE)-x4)) #rough inverse function; b4 should be positive\n",
    "    BARTHAGterm = a5*np.exp(b5*(BARTHAG-max(BARTHAG)-x5)) #inverse function; b5 should be positive\n",
    "    WABterm = a6*np.exp(b6*(WAB-max(WAB)-x6)) #inverse function; b6 should be positive\n",
    "    SEEDSCOREterm = a7*np.exp(b7*(SEEDSCORE-max(SEEDSCORE)-x7)) #rough inverse function; b7 should be positive\n",
    "    result = Gterm + Wterm + ADJOEterm + ADJDEterm + BARTHAGterm + WABterm + SEEDSCOREterm\n",
    "    return(result)"
   ]
  },
  {
   "cell_type": "code",
   "execution_count": 99,
   "id": "89dd7458",
   "metadata": {},
   "outputs": [],
   "source": [
    "from scipy.optimize import curve_fit\n",
    "empirical_inverse_params = curve_fit(f = invfun, xdata = empresultX.drop(columns = \"DRB\"), ydata = TGBLdata,\n",
    "                            bounds=([0,0,0,0,0,0,0,0,0,0,0,0,0,0],\n",
    "                                    [np.inf,np.inf,np.inf,np.inf,np.inf,np.inf,np.inf, #b maxes\n",
    "                                    np.inf,np.inf,np.inf,np.inf,np.inf,np.inf,np.inf])) #x maxes\n",
    "\n",
    "empirical_exponential_params = curve_fit(f = expfun, xdata = empresultX.drop(columns = \"DRB\"), ydata = TGBLdata,\n",
    "                            bounds=([0,0,0,0,0,0,0,0,0,0,0,0,0,0, #a and b mins\n",
    "                                    -np.inf,-np.inf,-np.inf,-np.inf,-np.inf,-np.inf,-np.inf], #x mins\n",
    "                                    [np.inf,np.inf,np.inf,np.inf,np.inf,np.inf,np.inf, #a maxes\n",
    "                                     np.inf,np.inf,np.inf,np.inf,np.inf,np.inf,np.inf, #b maxes\n",
    "                                     np.inf,np.inf,np.inf,np.inf,np.inf,np.inf,np.inf])) #x maxes"
   ]
  },
  {
   "cell_type": "code",
   "execution_count": 100,
   "id": "66ad8793",
   "metadata": {},
   "outputs": [],
   "source": [
    "empirical_inverse_pred = invfun(empresultX, *empirical_inverse_params[0]) #inverse predictions\n",
    "empirical_exponential_pred = expfun(empresultX, *empirical_exponential_params[0]) #exponential predictions"
   ]
  },
  {
   "cell_type": "code",
   "execution_count": 101,
   "id": "1181d47d",
   "metadata": {},
   "outputs": [
    {
     "name": "stdout",
     "output_type": "stream",
     "text": [
      "Empirical Inverse Model R-Squared: 0.6802266714456413\n",
      "Empirical Exponential Model R-Squared: 0.7701921906115068\n"
     ]
    }
   ],
   "source": [
    "from sklearn.metrics import r2_score\n",
    "\n",
    "print(\"Empirical Inverse Model R-Squared: \" + str(r2_score(TGBLdata, empirical_inverse_pred))) #inv r-squared\n",
    "print(\"Empirical Exponential Model R-Squared: \" + str(r2_score(TGBLdata, empirical_exponential_pred))) #exp r-squared"
   ]
  },
  {
   "cell_type": "code",
   "execution_count": 137,
   "id": "b2fd7bc2",
   "metadata": {},
   "outputs": [
    {
     "data": {
      "image/png": "[encoded data removed]",
      "text/plain": [
       "<Figure size 432x288 with 1 Axes>"
      ]
     },
     "metadata": {
      "needs_background": "light"
     },
     "output_type": "display_data"
    },
    {
     "data": {
      "image/png": "[encoded data removed]",
      "text/plain": [
       "<Figure size 432x288 with 1 Axes>"
      ]
     },
     "metadata": {
      "needs_background": "light"
     },
     "output_type": "display_data"
    },
    {
     "data": {
      "image/png": "[encoded data removed]",
      "text/plain": [
       "<Figure size 432x288 with 1 Axes>"
      ]
     },
     "metadata": {
      "needs_background": "light"
     },
     "output_type": "display_data"
    },
    {
     "data": {
      "image/png": "[encoded data removed]",
      "text/plain": [
       "<Figure size 432x288 with 1 Axes>"
      ]
     },
     "metadata": {
      "needs_background": "light"
     },
     "output_type": "display_data"
    },
    {
     "data": {
      "image/png": "[encoded data removed]",
      "text/plain": [
       "<Figure size 432x288 with 1 Axes>"
      ]
     },
     "metadata": {
      "needs_background": "light"
     },
     "output_type": "display_data"
    },
    {
     "data": {
      "image/png": "[encoded data removed]",
      "text/plain": [
       "<Figure size 432x288 with 1 Axes>"
      ]
     },
     "metadata": {
      "needs_background": "light"
     },
     "output_type": "display_data"
    },
    {
     "data": {
      "image/png": "[encoded data removed]",
      "text/plain": [
       "<Figure size 432x288 with 1 Axes>"
      ]
     },
     "metadata": {
      "needs_background": "light"
     },
     "output_type": "display_data"
    },
    {
     "data": {
      "image/png": "[encoded data removed]",
      "text/plain": [
       "<Figure size 432x288 with 1 Axes>"
      ]
     },
     "metadata": {
      "needs_background": "light"
     },
     "output_type": "display_data"
    }
   ],
   "source": [
    "for a in empresultX.columns:\n",
    "    plt.figure() #plotting new figure through each loop\n",
    "    plt.title(a) #plotting title as column name\n",
    "    plt.xlabel(a)\n",
    "    plt.ylabel(\"TGBL\")\n",
    "    plt.scatter(empresultX[a], TGBLdata, c = 'b', s = 5, label = \"Given Data\") #recorded data\n",
    "    plt.scatter(empresultX[a], empirical_inverse_pred, c = 'r', s = 5, label = \"Inverse Predictions\") #inverse function points\n",
    "    plt.scatter(empresultX[a], empirical_exponential_pred, c = 'g', s = 5, label = \"Exponential Predictions\") #exponential function points\n",
    "    plt.legend() #plotting the legend for each plot"
   ]
  },
  {
   "cell_type": "code",
   "execution_count": 103,
   "id": "4094cc8d",
   "metadata": {},
   "outputs": [
    {
     "data": {
      "text/html": [
       "<div>\n",
       "<style scoped>\n",
       "    .dataframe tbody tr th:only-of-type {\n",
       "        vertical-align: middle;\n",
       "    }\n",
       "\n",
       "    .dataframe tbody tr th {\n",
       "        vertical-align: top;\n",
       "    }\n",
       "\n",
       "    .dataframe thead th {\n",
       "        text-align: right;\n",
       "    }\n",
       "</style>\n",
       "<table border=\"1\" class=\"dataframe\">\n",
       "  <thead>\n",
       "    <tr style=\"text-align: right;\">\n",
       "      <th></th>\n",
       "      <th>G</th>\n",
       "      <th>W</th>\n",
       "      <th>ADJOE</th>\n",
       "      <th>ADJDE</th>\n",
       "      <th>BARTHAG</th>\n",
       "      <th>DRB</th>\n",
       "      <th>WAB</th>\n",
       "      <th>SEEDSCORE</th>\n",
       "    </tr>\n",
       "  </thead>\n",
       "  <tbody>\n",
       "    <tr>\n",
       "      <th>0</th>\n",
       "      <td>24</td>\n",
       "      <td>20</td>\n",
       "      <td>118.1</td>\n",
       "      <td>91.1</td>\n",
       "      <td>0.9521</td>\n",
       "      <td>24.8</td>\n",
       "      <td>7.2</td>\n",
       "      <td>16.0</td>\n",
       "    </tr>\n",
       "    <tr>\n",
       "      <th>1</th>\n",
       "      <td>24</td>\n",
       "      <td>22</td>\n",
       "      <td>123.2</td>\n",
       "      <td>94.5</td>\n",
       "      <td>0.9548</td>\n",
       "      <td>30.9</td>\n",
       "      <td>6.6</td>\n",
       "      <td>16.0</td>\n",
       "    </tr>\n",
       "    <tr>\n",
       "      <th>2</th>\n",
       "      <td>29</td>\n",
       "      <td>23</td>\n",
       "      <td>117.7</td>\n",
       "      <td>90.4</td>\n",
       "      <td>0.9539</td>\n",
       "      <td>22.2</td>\n",
       "      <td>8.9</td>\n",
       "      <td>16.0</td>\n",
       "    </tr>\n",
       "    <tr>\n",
       "      <th>3</th>\n",
       "      <td>26</td>\n",
       "      <td>26</td>\n",
       "      <td>125.4</td>\n",
       "      <td>89.8</td>\n",
       "      <td>0.9791</td>\n",
       "      <td>23.4</td>\n",
       "      <td>8.5</td>\n",
       "      <td>16.0</td>\n",
       "    </tr>\n",
       "    <tr>\n",
       "      <th>4</th>\n",
       "      <td>29</td>\n",
       "      <td>21</td>\n",
       "      <td>123.5</td>\n",
       "      <td>95.7</td>\n",
       "      <td>0.9491</td>\n",
       "      <td>28.6</td>\n",
       "      <td>5.6</td>\n",
       "      <td>15.0</td>\n",
       "    </tr>\n",
       "  </tbody>\n",
       "</table>\n",
       "</div>"
      ],
      "text/plain": [
       "    G   W  ADJOE  ADJDE  BARTHAG   DRB  WAB  SEEDSCORE\n",
       "0  24  20  118.1   91.1   0.9521  24.8  7.2       16.0\n",
       "1  24  22  123.2   94.5   0.9548  30.9  6.6       16.0\n",
       "2  29  23  117.7   90.4   0.9539  22.2  8.9       16.0\n",
       "3  26  26  125.4   89.8   0.9791  23.4  8.5       16.0\n",
       "4  29  21  123.5   95.7   0.9491  28.6  5.6       15.0"
      ]
     },
     "execution_count": 103,
     "metadata": {},
     "output_type": "execute_result"
    }
   ],
   "source": [
    "newresultX.head()"
   ]
  },
  {
   "cell_type": "code",
   "execution_count": 105,
   "id": "79b59639",
   "metadata": {},
   "outputs": [],
   "source": [
    "ly_inv_pred = invfun(newresultX, *empirical_inverse_params[0]) #2021 inverse predictions\n",
    "ly_exp_pred = expfun(newresultX, *empirical_exponential_params[0]) #2021 exponential predictions"
   ]
  },
  {
   "cell_type": "code",
   "execution_count": 106,
   "id": "c69186fb",
   "metadata": {},
   "outputs": [
    {
     "name": "stdout",
     "output_type": "stream",
     "text": [
      "Empirical Inverse Model TGBL Prediction for Baylor: 2\n",
      "Empirical Exponential Model TGBL Prediction for Baylor: 2\n"
     ]
    }
   ],
   "source": [
    "#Baylor Prediction:\n",
    "print(\"Empirical Inverse Model TGBL Prediction for Baylor: \" + str(ly_inv_pred[1].astype(int))) #inverse\n",
    "print(\"Empirical Exponential Model TGBL Prediction for Baylor: \" + str(ly_exp_pred[1].astype(int))) #exponential"
   ]
  },
  {
   "cell_type": "code",
   "execution_count": 115,
   "id": "76c8b30d",
   "metadata": {},
   "outputs": [
    {
     "name": "stdout",
     "output_type": "stream",
     "text": [
      "Empirical Inverse Model TGBL Prediction for Alabama: 7\n",
      "Empirical Exponential Model TGBL Prediction for Alabama: 6\n",
      "Actual Tournament Results: Sweet Sixteen (TGBL: 3); Lost to UCLA\n"
     ]
    }
   ],
   "source": [
    "#2 Seed Alabama Prediction (Highest TGBL prediction for Inverse and Exponential)\n",
    "print(\"Empirical Inverse Model TGBL Prediction for Alabama: \" + str(ly_inv_pred[7].astype(int))) #inverse\n",
    "print(\"Empirical Exponential Model TGBL Prediction for Alabama: \" + str(ly_exp_pred[7].astype(int))) #exponential\n",
    "print(\"Actual Tournament Results: Sweet Sixteen (TGBL: 3); Lost to UCLA\")"
   ]
  },
  {
   "cell_type": "code",
   "execution_count": null,
   "id": "67083542",
   "metadata": {},
   "outputs": [],
   "source": []
  }
 ],
 "metadata": {
  "kernelspec": {
   "display_name": "Python 3 (ipykernel)",
   "language": "python",
   "name": "python3"
  },
  "language_info": {
   "codemirror_mode": {
    "name": "ipython",
    "version": 3
   },
   "file_extension": ".py",
   "mimetype": "text/x-python",
   "name": "python",
   "nbconvert_exporter": "python",
   "pygments_lexer": "ipython3",
   "version": "3.8.5"
  }
 },
 "nbformat": 4,
 "nbformat_minor": 5
}
